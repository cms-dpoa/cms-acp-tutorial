{
 "cells": [
  {
   "cell_type": "markdown",
   "id": "af98567a",
   "metadata": {
    "id": "af98567a"
   },
   "source": [
    "# CMS Open Data Tutorial\n",
    "\n",
    "## [4th African Conference on Fundamental Physics and Applications](https://africanschoolofphysics.org/acp2025/)\n",
    "\n",
    "What we cover here:\n",
    "\n",
    "* What's available from CMS on the open data portal and how to find it\n",
    "* The `cernopendata-client` and how to use it\n",
    "* What's in the CMS NANOAOD format and how to use it\n",
    "* How to make some simple selections on the data and plot results"
   ]
  },
  {
   "cell_type": "markdown",
   "id": "6R2DryJIVG-q",
   "metadata": {
    "id": "6R2DryJIVG-q"
   },
   "source": [
    "**NOTE:** If you are running this in Google Colab run the following command:"
   ]
  },
  {
   "cell_type": "code",
   "execution_count": null,
   "id": "P9Q1DS3DUxp2",
   "metadata": {
    "colab": {
     "base_uri": "https://localhost:8080/"
    },
    "id": "P9Q1DS3DUxp2",
    "outputId": "a26a5557-3bb8-4e87-d7a5-aa31886fe2a1"
   },
   "outputs": [],
   "source": [
    "!pip install -r https://raw.githubusercontent.com/cms-dpoa/cms-acp-tutorial/main/requirements.txt"
   ]
  },
  {
   "cell_type": "markdown",
   "id": "94ff5ae4",
   "metadata": {
    "id": "94ff5ae4"
   },
   "source": [
    "## CMS Open Data and the CERN Open Data Portal\n",
    "\n",
    "Before we do anything let's go to the [CERN Open Data Portal](https://opendata.cern.ch/) and discover what open data and resources are available."
   ]
  },
  {
   "cell_type": "markdown",
   "id": "39a4db46",
   "metadata": {
    "id": "39a4db46"
   },
   "source": [
    "## Accessing data: the `cernopendata-client`\n",
    "\n",
    "The [cernopendata-client](https://cernopendata-client.readthedocs.io/en/latest/) is a useful command line tool for accessing data in the CERN Open Data Portal."
   ]
  },
  {
   "cell_type": "markdown",
   "id": "6dfd39a3",
   "metadata": {
    "id": "6dfd39a3"
   },
   "source": [
    "Let's run the command with the help option:"
   ]
  },
  {
   "cell_type": "code",
   "execution_count": 1,
   "id": "236f43a7",
   "metadata": {
    "colab": {
     "base_uri": "https://localhost:8080/"
    },
    "id": "236f43a7",
    "outputId": "61efccdc-cab5-4c5b-8fc1-e8dc108f58ea"
   },
   "outputs": [
    {
     "name": "stdout",
     "output_type": "stream",
     "text": [
      "Usage: cernopendata-client [OPTIONS] COMMAND [ARGS]...\n",
      "\n",
      "  Command-line client for interacting with CERN Open Data portal.\n",
      "\n",
      "Options:\n",
      "  --help  Show this message and exit.\n",
      "\n",
      "Commands:\n",
      "  download-files      Download data files belonging to a record.\n",
      "  get-file-locations  Get a list of data file locations of a record.\n",
      "  get-metadata        Get metadata content of a record.\n",
      "  list-directory      List contents of a EOSPUBLIC Open Data directory.\n",
      "  verify-files        Verify downloaded data file integrity.\n",
      "  version             Return cernopendata-client version.\n"
     ]
    }
   ],
   "source": [
    "!cernopendata-client --help"
   ]
  },
  {
   "cell_type": "markdown",
   "id": "98ef9140",
   "metadata": {
    "id": "98ef9140"
   },
   "source": [
    "Recall that each CMS dataset is associated to a record on the CODP. Let's select a DoubleMuon NANOAOD dataset:\n",
    "\n",
    "[DoubleMuon primary dataset in NANOAOD format from RunH of 2016](https://opendata.cern.ch/record/30555)\n",
    "\n",
    "which is record number 30555."
   ]
  },
  {
   "cell_type": "markdown",
   "id": "b83438d9",
   "metadata": {
    "id": "b83438d9"
   },
   "source": [
    "With the CLI we can list the metadata for this dataset:"
   ]
  },
  {
   "cell_type": "code",
   "execution_count": null,
   "id": "3cc666aa",
   "metadata": {
    "id": "3cc666aa",
    "scrolled": true
   },
   "outputs": [],
   "source": [
    "!cernopendata-client get-metadata --recid 30555"
   ]
  },
  {
   "cell_type": "markdown",
   "id": "45db0b96",
   "metadata": {
    "id": "45db0b96"
   },
   "source": [
    "Let's list the files available in this record:"
   ]
  },
  {
   "cell_type": "code",
   "execution_count": 2,
   "id": "7285c851",
   "metadata": {
    "colab": {
     "base_uri": "https://localhost:8080/"
    },
    "id": "7285c851",
    "outputId": "fc5a1a3b-9940-432b-88e5-b5a1d25c0e4a"
   },
   "outputs": [
    {
     "name": "stdout",
     "output_type": "stream",
     "text": [
      "http://opendata.cern.ch/eos/opendata/cms/Run2016H/DoubleMuon/NANOAOD/UL2016_MiniAODv2_NanoAODv9-v1/2510000/127C2975-1B1C-A046-AABF-62B77E757A86.root\t2016828178\tadler32:eff37065\u001b[0m\n",
      "http://opendata.cern.ch/eos/opendata/cms/Run2016H/DoubleMuon/NANOAOD/UL2016_MiniAODv2_NanoAODv9-v1/2510000/183BFB78-7B5E-734F-BBF5-174A73020F89.root\t2010323460\tadler32:78b69eb2\u001b[0m\n",
      "http://opendata.cern.ch/eos/opendata/cms/Run2016H/DoubleMuon/NANOAOD/UL2016_MiniAODv2_NanoAODv9-v1/2510000/790F8A75-8256-3B46-8209-850DE0BE3C77.root\t1643033529\tadler32:74252daa\u001b[0m\n",
      "http://opendata.cern.ch/eos/opendata/cms/Run2016H/DoubleMuon/NANOAOD/UL2016_MiniAODv2_NanoAODv9-v1/2510000/7F53D1DE-439E-AD48-871E-D3458DABA798.root\t1913547715\tadler32:52ca2e8a\u001b[0m\n",
      "http://opendata.cern.ch/eos/opendata/cms/Run2016H/DoubleMuon/NANOAOD/UL2016_MiniAODv2_NanoAODv9-v1/2510000/8A696857-C147-B04A-905A-F85FB76EDA23.root\t2448295089\tadler32:e3c02800\u001b[0m\n",
      "http://opendata.cern.ch/eos/opendata/cms/Run2016H/DoubleMuon/NANOAOD/UL2016_MiniAODv2_NanoAODv9-v1/2510000/8B253755-51F2-CB49-A4B6-C79637CAE23F.root\t2367641209\tadler32:6aa0190c\u001b[0m\n",
      "http://opendata.cern.ch/eos/opendata/cms/Run2016H/DoubleMuon/NANOAOD/UL2016_MiniAODv2_NanoAODv9-v1/2510000/9528EA75-1C0B-9047-A9A3-6A47564F7A98.root\t2203033189\tadler32:db08fdc2\u001b[0m\n",
      "http://opendata.cern.ch/eos/opendata/cms/Run2016H/DoubleMuon/NANOAOD/UL2016_MiniAODv2_NanoAODv9-v1/2510000/A6605227-0B58-864E-8422-B8990D18F622.root\t2181807025\tadler32:03778ef2\u001b[0m\n",
      "http://opendata.cern.ch/eos/opendata/cms/Run2016H/DoubleMuon/NANOAOD/UL2016_MiniAODv2_NanoAODv9-v1/2510000/B2DC29E0-8679-1D4F-A5AE-E7D0284A20D4.root\t1385639231\tadler32:b1e1ffde\u001b[0m\n",
      "http://opendata.cern.ch/eos/opendata/cms/Run2016H/DoubleMuon/NANOAOD/UL2016_MiniAODv2_NanoAODv9-v1/2510000/B450B2B3-BEF8-8C43-82BF-7AD0EF2EA7EA.root\t1959617090\tadler32:2dde4b57\u001b[0m\n",
      "http://opendata.cern.ch/eos/opendata/cms/Run2016H/DoubleMuon/NANOAOD/UL2016_MiniAODv2_NanoAODv9-v1/2510000/B7AA7F04-5D5F-514A-83A6-9A275198852C.root\t1554574721\tadler32:e466513c\u001b[0m\n",
      "http://opendata.cern.ch/eos/opendata/cms/Run2016H/DoubleMuon/NANOAOD/UL2016_MiniAODv2_NanoAODv9-v1/2510000/B93B57BF-4239-A049-9531-4C542C370185.root\t1420971666\tadler32:e2d626fa\u001b[0m\n",
      "http://opendata.cern.ch/eos/opendata/cms/Run2016H/DoubleMuon/NANOAOD/UL2016_MiniAODv2_NanoAODv9-v1/2510000/1BE226A3-7A8D-1B43-AADC-201B563F3319.root\t977210126\tadler32:7bbeeecb\u001b[0m\n",
      "http://opendata.cern.ch/eos/opendata/cms/Run2016H/DoubleMuon/NANOAOD/UL2016_MiniAODv2_NanoAODv9-v1/2510000/C4558F81-9F2C-1349-B528-6B9DD6838D6D.root\t2375719196\tadler32:16f6ab1e\u001b[0m\n",
      "http://opendata.cern.ch/eos/opendata/cms/Run2016H/DoubleMuon/NANOAOD/UL2016_MiniAODv2_NanoAODv9-v1/2510000/C8CFC890-D4B8-8A4F-8699-C6ACCDF1620A.root\t2282617496\tadler32:7e6a5629\u001b[0m\n",
      "http://opendata.cern.ch/eos/opendata/cms/Run2016H/DoubleMuon/NANOAOD/UL2016_MiniAODv2_NanoAODv9-v1/2510000/CAA285FF-7A12-F945-9183-DC7042178535.root\t1044462176\tadler32:832a13f8\u001b[0m\n",
      "http://opendata.cern.ch/eos/opendata/cms/Run2016H/DoubleMuon/NANOAOD/UL2016_MiniAODv2_NanoAODv9-v1/2510000/CD267D88-E57D-3B44-AC45-0712E2E12B87.root\t992237117\tadler32:39a0f414\u001b[0m\n",
      "http://opendata.cern.ch/eos/opendata/cms/Run2016H/DoubleMuon/NANOAOD/UL2016_MiniAODv2_NanoAODv9-v1/2510000/E7C51551-7A75-5C41-B468-46FB922F36A9.root\t1689675704\tadler32:0bde718e\u001b[0m\n",
      "http://opendata.cern.ch/eos/opendata/cms/Run2016H/DoubleMuon/NANOAOD/UL2016_MiniAODv2_NanoAODv9-v1/2510000/EBC200F4-C06F-CE45-BAAA-7CAECDD3076F.root\t1357980086\tadler32:d249a6bc\u001b[0m\n",
      "http://opendata.cern.ch/eos/opendata/cms/Run2016H/DoubleMuon/NANOAOD/UL2016_MiniAODv2_NanoAODv9-v1/2510000/EEB2FE3F-7CF3-BF4A-9F70-3F89FACE698E.root\t275347138\tadler32:2d30a156\u001b[0m\n",
      "http://opendata.cern.ch/eos/opendata/cms/Run2016H/DoubleMuon/NANOAOD/UL2016_MiniAODv2_NanoAODv9-v1/2510000/F5E234F9-1E9C-0042-B395-AB6407E4A336.root\t1004872817\tadler32:16b2aa85\u001b[0m\n",
      "http://opendata.cern.ch/eos/opendata/cms/Run2016H/DoubleMuon/NANOAOD/UL2016_MiniAODv2_NanoAODv9-v1/2510000/1DE780E2-BCC2-DC48-815D-9A97B2A4A2CD.root\t1599033216\tadler32:10f82457\u001b[0m\n",
      "http://opendata.cern.ch/eos/opendata/cms/Run2016H/DoubleMuon/NANOAOD/UL2016_MiniAODv2_NanoAODv9-v1/2510000/21DA4CE5-4E50-024F-9CE1-50C77254DD4E.root\t1866331050\tadler32:90eb776e\u001b[0m\n",
      "http://opendata.cern.ch/eos/opendata/cms/Run2016H/DoubleMuon/NANOAOD/UL2016_MiniAODv2_NanoAODv9-v1/2510000/2C6A0345-8E2E-9B41-BB51-DB56DFDFB89A.root\t1627547817\tadler32:621dce01\u001b[0m\n",
      "http://opendata.cern.ch/eos/opendata/cms/Run2016H/DoubleMuon/NANOAOD/UL2016_MiniAODv2_NanoAODv9-v1/2510000/3676E287-A650-8F44-BBCB-3B8556966406.root\t1422943452\tadler32:96200e1d\u001b[0m\n",
      "http://opendata.cern.ch/eos/opendata/cms/Run2016H/DoubleMuon/NANOAOD/UL2016_MiniAODv2_NanoAODv9-v1/2510000/411A019C-7058-FD42-AD50-DE74433E6859.root\t1841338211\tadler32:16c6b7fd\u001b[0m\n",
      "http://opendata.cern.ch/eos/opendata/cms/Run2016H/DoubleMuon/NANOAOD/UL2016_MiniAODv2_NanoAODv9-v1/2510000/46A8960A-E58F-4648-9C12-2708FE7C12FB.root\t1437210210\tadler32:e33a19db\u001b[0m\n",
      "http://opendata.cern.ch/eos/opendata/cms/Run2016H/DoubleMuon/NANOAOD/UL2016_MiniAODv2_NanoAODv9-v1/2510000/4F0B53A7-6440-924B-AF48-B5B61D3CE23F.root\t1141044287\tadler32:fafd3855\u001b[0m\n"
     ]
    }
   ],
   "source": [
    "!cernopendata-client get-file-locations --recid 30555 --verbose"
   ]
  },
  {
   "cell_type": "markdown",
   "id": "1820c14a",
   "metadata": {
    "id": "1820c14a"
   },
   "source": [
    "By default the files are given with the HTTP protocol. If you wish to use XRootD:"
   ]
  },
  {
   "cell_type": "code",
   "execution_count": 3,
   "id": "31cfb6cb",
   "metadata": {
    "id": "31cfb6cb"
   },
   "outputs": [
    {
     "name": "stdout",
     "output_type": "stream",
     "text": [
      "root://eospublic.cern.ch//eos/opendata/cms/Run2016H/DoubleMuon/NANOAOD/UL2016_MiniAODv2_NanoAODv9-v1/2510000/127C2975-1B1C-A046-AABF-62B77E757A86.root\t2016828178\tadler32:eff37065\u001b[0m\n",
      "root://eospublic.cern.ch//eos/opendata/cms/Run2016H/DoubleMuon/NANOAOD/UL2016_MiniAODv2_NanoAODv9-v1/2510000/183BFB78-7B5E-734F-BBF5-174A73020F89.root\t2010323460\tadler32:78b69eb2\u001b[0m\n",
      "root://eospublic.cern.ch//eos/opendata/cms/Run2016H/DoubleMuon/NANOAOD/UL2016_MiniAODv2_NanoAODv9-v1/2510000/790F8A75-8256-3B46-8209-850DE0BE3C77.root\t1643033529\tadler32:74252daa\u001b[0m\n",
      "root://eospublic.cern.ch//eos/opendata/cms/Run2016H/DoubleMuon/NANOAOD/UL2016_MiniAODv2_NanoAODv9-v1/2510000/7F53D1DE-439E-AD48-871E-D3458DABA798.root\t1913547715\tadler32:52ca2e8a\u001b[0m\n",
      "root://eospublic.cern.ch//eos/opendata/cms/Run2016H/DoubleMuon/NANOAOD/UL2016_MiniAODv2_NanoAODv9-v1/2510000/8A696857-C147-B04A-905A-F85FB76EDA23.root\t2448295089\tadler32:e3c02800\u001b[0m\n",
      "root://eospublic.cern.ch//eos/opendata/cms/Run2016H/DoubleMuon/NANOAOD/UL2016_MiniAODv2_NanoAODv9-v1/2510000/8B253755-51F2-CB49-A4B6-C79637CAE23F.root\t2367641209\tadler32:6aa0190c\u001b[0m\n",
      "root://eospublic.cern.ch//eos/opendata/cms/Run2016H/DoubleMuon/NANOAOD/UL2016_MiniAODv2_NanoAODv9-v1/2510000/9528EA75-1C0B-9047-A9A3-6A47564F7A98.root\t2203033189\tadler32:db08fdc2\u001b[0m\n",
      "root://eospublic.cern.ch//eos/opendata/cms/Run2016H/DoubleMuon/NANOAOD/UL2016_MiniAODv2_NanoAODv9-v1/2510000/A6605227-0B58-864E-8422-B8990D18F622.root\t2181807025\tadler32:03778ef2\u001b[0m\n",
      "root://eospublic.cern.ch//eos/opendata/cms/Run2016H/DoubleMuon/NANOAOD/UL2016_MiniAODv2_NanoAODv9-v1/2510000/B2DC29E0-8679-1D4F-A5AE-E7D0284A20D4.root\t1385639231\tadler32:b1e1ffde\u001b[0m\n",
      "root://eospublic.cern.ch//eos/opendata/cms/Run2016H/DoubleMuon/NANOAOD/UL2016_MiniAODv2_NanoAODv9-v1/2510000/B450B2B3-BEF8-8C43-82BF-7AD0EF2EA7EA.root\t1959617090\tadler32:2dde4b57\u001b[0m\n",
      "root://eospublic.cern.ch//eos/opendata/cms/Run2016H/DoubleMuon/NANOAOD/UL2016_MiniAODv2_NanoAODv9-v1/2510000/B7AA7F04-5D5F-514A-83A6-9A275198852C.root\t1554574721\tadler32:e466513c\u001b[0m\n",
      "root://eospublic.cern.ch//eos/opendata/cms/Run2016H/DoubleMuon/NANOAOD/UL2016_MiniAODv2_NanoAODv9-v1/2510000/B93B57BF-4239-A049-9531-4C542C370185.root\t1420971666\tadler32:e2d626fa\u001b[0m\n",
      "root://eospublic.cern.ch//eos/opendata/cms/Run2016H/DoubleMuon/NANOAOD/UL2016_MiniAODv2_NanoAODv9-v1/2510000/1BE226A3-7A8D-1B43-AADC-201B563F3319.root\t977210126\tadler32:7bbeeecb\u001b[0m\n",
      "root://eospublic.cern.ch//eos/opendata/cms/Run2016H/DoubleMuon/NANOAOD/UL2016_MiniAODv2_NanoAODv9-v1/2510000/C4558F81-9F2C-1349-B528-6B9DD6838D6D.root\t2375719196\tadler32:16f6ab1e\u001b[0m\n",
      "root://eospublic.cern.ch//eos/opendata/cms/Run2016H/DoubleMuon/NANOAOD/UL2016_MiniAODv2_NanoAODv9-v1/2510000/C8CFC890-D4B8-8A4F-8699-C6ACCDF1620A.root\t2282617496\tadler32:7e6a5629\u001b[0m\n",
      "root://eospublic.cern.ch//eos/opendata/cms/Run2016H/DoubleMuon/NANOAOD/UL2016_MiniAODv2_NanoAODv9-v1/2510000/CAA285FF-7A12-F945-9183-DC7042178535.root\t1044462176\tadler32:832a13f8\u001b[0m\n",
      "root://eospublic.cern.ch//eos/opendata/cms/Run2016H/DoubleMuon/NANOAOD/UL2016_MiniAODv2_NanoAODv9-v1/2510000/CD267D88-E57D-3B44-AC45-0712E2E12B87.root\t992237117\tadler32:39a0f414\u001b[0m\n",
      "root://eospublic.cern.ch//eos/opendata/cms/Run2016H/DoubleMuon/NANOAOD/UL2016_MiniAODv2_NanoAODv9-v1/2510000/E7C51551-7A75-5C41-B468-46FB922F36A9.root\t1689675704\tadler32:0bde718e\u001b[0m\n",
      "root://eospublic.cern.ch//eos/opendata/cms/Run2016H/DoubleMuon/NANOAOD/UL2016_MiniAODv2_NanoAODv9-v1/2510000/EBC200F4-C06F-CE45-BAAA-7CAECDD3076F.root\t1357980086\tadler32:d249a6bc\u001b[0m\n",
      "root://eospublic.cern.ch//eos/opendata/cms/Run2016H/DoubleMuon/NANOAOD/UL2016_MiniAODv2_NanoAODv9-v1/2510000/EEB2FE3F-7CF3-BF4A-9F70-3F89FACE698E.root\t275347138\tadler32:2d30a156\u001b[0m\n",
      "root://eospublic.cern.ch//eos/opendata/cms/Run2016H/DoubleMuon/NANOAOD/UL2016_MiniAODv2_NanoAODv9-v1/2510000/F5E234F9-1E9C-0042-B395-AB6407E4A336.root\t1004872817\tadler32:16b2aa85\u001b[0m\n",
      "root://eospublic.cern.ch//eos/opendata/cms/Run2016H/DoubleMuon/NANOAOD/UL2016_MiniAODv2_NanoAODv9-v1/2510000/1DE780E2-BCC2-DC48-815D-9A97B2A4A2CD.root\t1599033216\tadler32:10f82457\u001b[0m\n",
      "root://eospublic.cern.ch//eos/opendata/cms/Run2016H/DoubleMuon/NANOAOD/UL2016_MiniAODv2_NanoAODv9-v1/2510000/21DA4CE5-4E50-024F-9CE1-50C77254DD4E.root\t1866331050\tadler32:90eb776e\u001b[0m\n",
      "root://eospublic.cern.ch//eos/opendata/cms/Run2016H/DoubleMuon/NANOAOD/UL2016_MiniAODv2_NanoAODv9-v1/2510000/2C6A0345-8E2E-9B41-BB51-DB56DFDFB89A.root\t1627547817\tadler32:621dce01\u001b[0m\n",
      "root://eospublic.cern.ch//eos/opendata/cms/Run2016H/DoubleMuon/NANOAOD/UL2016_MiniAODv2_NanoAODv9-v1/2510000/3676E287-A650-8F44-BBCB-3B8556966406.root\t1422943452\tadler32:96200e1d\u001b[0m\n",
      "root://eospublic.cern.ch//eos/opendata/cms/Run2016H/DoubleMuon/NANOAOD/UL2016_MiniAODv2_NanoAODv9-v1/2510000/411A019C-7058-FD42-AD50-DE74433E6859.root\t1841338211\tadler32:16c6b7fd\u001b[0m\n",
      "root://eospublic.cern.ch//eos/opendata/cms/Run2016H/DoubleMuon/NANOAOD/UL2016_MiniAODv2_NanoAODv9-v1/2510000/46A8960A-E58F-4648-9C12-2708FE7C12FB.root\t1437210210\tadler32:e33a19db\u001b[0m\n",
      "root://eospublic.cern.ch//eos/opendata/cms/Run2016H/DoubleMuon/NANOAOD/UL2016_MiniAODv2_NanoAODv9-v1/2510000/4F0B53A7-6440-924B-AF48-B5B61D3CE23F.root\t1141044287\tadler32:fafd3855\u001b[0m\n"
     ]
    }
   ],
   "source": [
    "!cernopendata-client get-file-locations --recid 30555 --protocol xrootd --verbose"
   ]
  },
  {
   "cell_type": "markdown",
   "id": "ae93c2e6-edf2-4e62-ac10-e09de8bdeee0",
   "metadata": {
    "id": "ae93c2e6-edf2-4e62-ac10-e09de8bdeee0"
   },
   "source": [
    "Let's fetch the available files from a record and output them to a list:"
   ]
  },
  {
   "cell_type": "code",
   "execution_count": 4,
   "id": "481889c3-dc36-4914-bfc6-2a122b77c471",
   "metadata": {
    "colab": {
     "base_uri": "https://localhost:8080/"
    },
    "id": "481889c3-dc36-4914-bfc6-2a122b77c471",
    "outputId": "87d73614-77ff-465e-ff83-e77d896e64c5"
   },
   "outputs": [],
   "source": [
    "import os\n",
    "import subprocess\n",
    "\n",
    "recid = 30555\n",
    "\n",
    "command = ['cernopendata-client', 'get-file-locations', '--recid', f'{recid}', '--verbose']\n",
    "result = subprocess.run(command, capture_output=True, text=True)\n",
    "root_files = result.stdout.splitlines()\n",
    "root_files = [f.split('\\t') for f in root_files]"
   ]
  },
  {
   "cell_type": "markdown",
   "id": "c209ff57",
   "metadata": {
    "id": "c209ff57"
   },
   "source": [
    "Now let's download a file, one of the smaller ones. Note that the `cernopendata-client` has a download files option (see below)."
   ]
  },
  {
   "cell_type": "code",
   "execution_count": 5,
   "id": "4d84e526",
   "metadata": {
    "id": "4d84e526",
    "outputId": "8f88b3fc-3a7a-4084-fc16-0bfae11bbf19",
    "scrolled": true
   },
   "outputs": [
    {
     "name": "stdout",
     "output_type": "stream",
     "text": [
      "Usage: cernopendata-client download-files [OPTIONS]\n",
      "\n",
      "  Download data files belonging to a record.\n",
      "\n",
      "  Select a CERN Open Data bibliographic record by a record ID, a DOI, or a\n",
      "  title and download data files belonging to this record.\n",
      "\n",
      "  Examples:\n",
      "\n",
      "       $ cernopendata-client download-files --recid 5500\n",
      "\n",
      "       $ cernopendata-client download-files --recid 5500 --filter-name\n",
      "       BuildFile.xml\n",
      "\n",
      "       $ cernopendata-client download-files --recid 5500 --filter-regexp py$\n",
      "\n",
      "       $ cernopendata-client download-files --recid 5500 --filter-range 1-4\n",
      "\n",
      "       $ cernopendata-client download-files --recid 5500 --filter-range\n",
      "       1-2,5-7\n",
      "\n",
      "       $ cernopendata-client download-files --recid 5500 --filter-regexp py\n",
      "       --filter-range 1-2\n",
      "\n",
      "Options:\n",
      "  --recid INTEGER                 Record ID\n",
      "  --doi TEXT                      Digital Object Identifier\n",
      "  --title TEXT                    Record title\n",
      "  --protocol [http|xrootd]        Protocol to be used in links [http,xrootd]\n",
      "  --expand / --no-expand          Expand file indexes? [default=yes]\n",
      "  --server TEXT                   Which CERN Open Data server to query?\n",
      "                                  [default=http://opendata.cern.ch]\n",
      "  --dry-run                       Do not download anything, only print out\n",
      "                                  data file locations to be downloaded\n",
      "  --filter-name TEXT              Download files matching exactly the file\n",
      "                                  name\n",
      "  --filter-regexp TEXT            Download files matching the regular\n",
      "                                  expression\n",
      "  --filter-range TEXT             Download files from a specified list range\n",
      "                                  (i-j)\n",
      "  --verify                        Verify downloaded data file integrity\n",
      "  --retry-limit INTEGER           Number of retries when downloading a file\n",
      "                                  [default=10]\n",
      "  --retry-sleep INTEGER           Sleep time in seconds before retrying\n",
      "                                  downloads [default=5]\n",
      "  --download-engine [requests|pycurl|xrootd]\n",
      "                                  Download engine to use when downloading\n",
      "                                  files.The available values are 'requests',\n",
      "                                  'pycurl', 'xrootd'.[default=requests (for\n",
      "                                  HTTP protocol), xrootd (for XRootD\n",
      "                                  protocol)]\n",
      "  --help                          Show this message and exit.\n"
     ]
    }
   ],
   "source": [
    "!cernopendata-client download-files --help"
   ]
  },
  {
   "cell_type": "markdown",
   "id": "f164a31e-45e4-494d-9577-599eddd860a5",
   "metadata": {
    "id": "f164a31e-45e4-494d-9577-599eddd860a5"
   },
   "source": [
    "Let's select a file (< 1 GB) and download it using `curl`:"
   ]
  },
  {
   "cell_type": "code",
   "execution_count": 6,
   "id": "8c6093c1",
   "metadata": {
    "colab": {
     "base_uri": "https://localhost:8080/"
    },
    "id": "8c6093c1",
    "outputId": "b122d8dc-bbd7-4fce-d6ad-bb5fa3ff894c"
   },
   "outputs": [
    {
     "data": {
      "text/plain": [
       "[('http://opendata.cern.ch/eos/opendata/cms/Run2016H/DoubleMuon/NANOAOD/UL2016_MiniAODv2_NanoAODv9-v1/2510000/1BE226A3-7A8D-1B43-AADC-201B563F3319.root',\n",
       "  '977210126'),\n",
       " ('http://opendata.cern.ch/eos/opendata/cms/Run2016H/DoubleMuon/NANOAOD/UL2016_MiniAODv2_NanoAODv9-v1/2510000/CD267D88-E57D-3B44-AC45-0712E2E12B87.root',\n",
       "  '992237117'),\n",
       " ('http://opendata.cern.ch/eos/opendata/cms/Run2016H/DoubleMuon/NANOAOD/UL2016_MiniAODv2_NanoAODv9-v1/2510000/EEB2FE3F-7CF3-BF4A-9F70-3F89FACE698E.root',\n",
       "  '275347138')]"
      ]
     },
     "execution_count": 6,
     "metadata": {},
     "output_type": "execute_result"
    }
   ],
   "source": [
    "fns = [(f[0],f[1]) for f in root_files if int(f[1]) < 1000e6]\n",
    "fns"
   ]
  },
  {
   "cell_type": "code",
   "execution_count": 7,
   "id": "5971ab13-4d68-4ad1-9394-b136b6049b96",
   "metadata": {
    "id": "5971ab13-4d68-4ad1-9394-b136b6049b96"
   },
   "outputs": [],
   "source": [
    "# Let's take the third file, hence fn[2] and get the name fn[2][0]\n",
    "file_url = fns[2][0]\n",
    "file_name = file_url.split('/')[-1:][0]\n",
    "\n",
    "if not (os.path.isfile(f'{file_name}')):\n",
    "    subprocess.run(['curl', '-O', f'{file_url}'])"
   ]
  },
  {
   "cell_type": "markdown",
   "id": "84db97a6",
   "metadata": {
    "id": "84db97a6"
   },
   "source": [
    "## Exploring the data: the CMS NANOAOD format\n",
    "\n",
    "The NANOAOD files can of course be opened and explored using ROOT, in particular [PyROOT](https://root.cern/manual/python/). Here we'll instead use the SciKit-HEP tools [uproot](https://github.com/scikit-hep/uproot5) (\"ROOT I/O in pure Python and NumPy\") and [awkward](https://github.com/scikit-hep/awkward) (\"Manipulate JSON-like data with NumPy-like idioms\")."
   ]
  },
  {
   "cell_type": "code",
   "execution_count": 8,
   "id": "10864e2c",
   "metadata": {
    "id": "10864e2c"
   },
   "outputs": [],
   "source": [
    "import numpy as np\n",
    "import matplotlib.pylab as plt\n",
    "import uproot\n",
    "import vector\n",
    "import awkward as ak\n",
    "\n",
    "vector.register_awkward()"
   ]
  },
  {
   "cell_type": "markdown",
   "id": "e2adda23",
   "metadata": {
    "id": "e2adda23"
   },
   "source": [
    "Let's first open the file we've downloaded and see what's in it:"
   ]
  },
  {
   "cell_type": "code",
   "execution_count": 9,
   "id": "02131940",
   "metadata": {
    "colab": {
     "base_uri": "https://localhost:8080/"
    },
    "id": "02131940",
    "outputId": "9e9228be-a53c-49bb-8adf-dfb698d129a7"
   },
   "outputs": [
    {
     "name": "stdout",
     "output_type": "stream",
     "text": [
      "['tag;1', 'Events;1', 'LuminosityBlocks;1', 'Runs;1', 'MetaData;1', 'ParameterSets;1']\n"
     ]
    }
   ],
   "source": [
    "infile = uproot.open(file_name)\n",
    "\n",
    "keys = infile.keys()\n",
    "print(keys)"
   ]
  },
  {
   "cell_type": "markdown",
   "id": "5ad2915d-a0b7-4cf0-af3e-f8878fd6ee63",
   "metadata": {
    "id": "5ad2915d-a0b7-4cf0-af3e-f8878fd6ee63"
   },
   "source": [
    "Since we're using `uproot/awkward` let's see what we have:"
   ]
  },
  {
   "cell_type": "code",
   "execution_count": 12,
   "id": "c3efb796",
   "metadata": {
    "colab": {
     "base_uri": "https://localhost:8080/"
    },
    "id": "c3efb796",
    "outputId": "91b7aa6a-2a55-454f-877a-80da8ed60d1b",
    "scrolled": true
   },
   "outputs": [
    {
     "name": "stdout",
     "output_type": "stream",
     "text": [
      "name                 | typename                 | interpretation                \n",
      "---------------------+--------------------------+-------------------------------\n",
      "run                  | uint32_t                 | AsDtype('>u4')\n",
      "luminosityBlock      | uint32_t                 | AsDtype('>u4')\n",
      "event                | uint64_t                 | AsDtype('>u8')\n",
      "nboostedTau          | uint32_t                 | AsDtype('>u4')\n",
      "boostedTau_charge... | float[]                  | AsJagged(AsDtype('>f4'))\n",
      "boostedTau_eta       | float[]                  | AsJagged(AsDtype('>f4'))\n",
      "boostedTau_leadTk... | float[]                  | AsJagged(AsDtype('>f4'))\n",
      "boostedTau_leadTk... | float[]                  | AsJagged(AsDtype('>f4'))\n",
      "boostedTau_leadTk... | float[]                  | AsJagged(AsDtype('>f4'))\n",
      "boostedTau_mass      | float[]                  | AsJagged(AsDtype('>f4'))\n",
      "boostedTau_neutra... | float[]                  | AsJagged(AsDtype('>f4'))\n",
      "boostedTau_phi       | float[]                  | AsJagged(AsDtype('>f4'))\n",
      "boostedTau_photon... | float[]                  | AsJagged(AsDtype('>f4'))\n",
      "boostedTau_pt        | float[]                  | AsJagged(AsDtype('>f4'))\n",
      "boostedTau_puCorr    | float[]                  | AsJagged(AsDtype('>f4'))\n",
      "boostedTau_rawAnt... | float[]                  | AsJagged(AsDtype('>f4'))\n",
      "boostedTau_rawIso    | float[]                  | AsJagged(AsDtype('>f4'))\n",
      "boostedTau_rawIso... | float[]                  | AsJagged(AsDtype('>f4'))\n",
      "boostedTau_rawMVA... | float[]                  | AsJagged(AsDtype('>f4'))\n",
      "boostedTau_rawMVA... | float[]                  | AsJagged(AsDtype('>f4'))\n",
      "boostedTau_rawMVA... | float[]                  | AsJagged(AsDtype('>f4'))\n",
      "boostedTau_charge    | int32_t[]                | AsJagged(AsDtype('>i4'))\n",
      "boostedTau_decayMode | int32_t[]                | AsJagged(AsDtype('>i4'))\n",
      "boostedTau_jetIdx    | int32_t[]                | AsJagged(AsDtype('>i4'))\n",
      "boostedTau_rawAnt... | int32_t[]                | AsJagged(AsDtype('>i4'))\n",
      "boostedTau_idAnti... | uint8_t[]                | AsJagged(AsDtype('uint8'))\n",
      "boostedTau_idAntiMu  | uint8_t[]                | AsJagged(AsDtype('uint8'))\n",
      "boostedTau_idMVAn... | uint8_t[]                | AsJagged(AsDtype('uint8'))\n",
      "boostedTau_idMVAo... | uint8_t[]                | AsJagged(AsDtype('uint8'))\n",
      "boostedTau_idMVAo... | uint8_t[]                | AsJagged(AsDtype('uint8'))\n",
      "CaloMET_phi          | float                    | AsDtype('>f4')\n",
      "CaloMET_pt           | float                    | AsDtype('>f4')\n",
      "CaloMET_sumEt        | float                    | AsDtype('>f4')\n",
      "ChsMET_phi           | float                    | AsDtype('>f4')\n",
      "ChsMET_pt            | float                    | AsDtype('>f4')\n",
      "ChsMET_sumEt         | float                    | AsDtype('>f4')\n",
      "nCorrT1METJet        | uint32_t                 | AsDtype('>u4')\n",
      "CorrT1METJet_area    | float[]                  | AsJagged(AsDtype('>f4'))\n",
      "CorrT1METJet_eta     | float[]                  | AsJagged(AsDtype('>f4'))\n",
      "CorrT1METJet_muon... | float[]                  | AsJagged(AsDtype('>f4'))\n",
      "CorrT1METJet_phi     | float[]                  | AsJagged(AsDtype('>f4'))\n",
      "CorrT1METJet_rawPt   | float[]                  | AsJagged(AsDtype('>f4'))\n",
      "DeepMETResolution... | float                    | AsDtype('>f4')\n",
      "DeepMETResolution... | float                    | AsDtype('>f4')\n",
      "DeepMETResponseTu... | float                    | AsDtype('>f4')\n",
      "DeepMETResponseTu... | float                    | AsDtype('>f4')\n",
      "nElectron            | uint32_t                 | AsDtype('>u4')\n",
      "Electron_dEscaleDown | float[]                  | AsJagged(AsDtype('>f4'))\n",
      "Electron_dEscaleUp   | float[]                  | AsJagged(AsDtype('>f4'))\n",
      "Electron_dEsigmaDown | float[]                  | AsJagged(AsDtype('>f4'))\n",
      "Electron_dEsigmaUp   | float[]                  | AsJagged(AsDtype('>f4'))\n",
      "Electron_deltaEtaSC  | float[]                  | AsJagged(AsDtype('>f4'))\n",
      "Electron_dr03Ecal... | float[]                  | AsJagged(AsDtype('>f4'))\n",
      "Electron_dr03Hcal... | float[]                  | AsJagged(AsDtype('>f4'))\n",
      "Electron_dr03TkSumPt | float[]                  | AsJagged(AsDtype('>f4'))\n",
      "Electron_dr03TkSu... | float[]                  | AsJagged(AsDtype('>f4'))\n",
      "Electron_dxy         | float[]                  | AsJagged(AsDtype('>f4'))\n",
      "Electron_dxyErr      | float[]                  | AsJagged(AsDtype('>f4'))\n",
      "Electron_dz          | float[]                  | AsJagged(AsDtype('>f4'))\n",
      "Electron_dzErr       | float[]                  | AsJagged(AsDtype('>f4'))\n",
      "Electron_eCorr       | float[]                  | AsJagged(AsDtype('>f4'))\n",
      "Electron_eInvMinu... | float[]                  | AsJagged(AsDtype('>f4'))\n",
      "Electron_energyErr   | float[]                  | AsJagged(AsDtype('>f4'))\n",
      "Electron_eta         | float[]                  | AsJagged(AsDtype('>f4'))\n",
      "Electron_hoe         | float[]                  | AsJagged(AsDtype('>f4'))\n",
      "Electron_ip3d        | float[]                  | AsJagged(AsDtype('>f4'))\n",
      "Electron_jetPtRelv2  | float[]                  | AsJagged(AsDtype('>f4'))\n",
      "Electron_jetRelIso   | float[]                  | AsJagged(AsDtype('>f4'))\n",
      "Electron_mass        | float[]                  | AsJagged(AsDtype('>f4'))\n",
      "Electron_miniPFRe... | float[]                  | AsJagged(AsDtype('>f4'))\n",
      "Electron_miniPFRe... | float[]                  | AsJagged(AsDtype('>f4'))\n",
      "Electron_mvaFall1... | float[]                  | AsJagged(AsDtype('>f4'))\n",
      "Electron_mvaFall1... | float[]                  | AsJagged(AsDtype('>f4'))\n",
      "Electron_pfRelIso... | float[]                  | AsJagged(AsDtype('>f4'))\n",
      "Electron_pfRelIso... | float[]                  | AsJagged(AsDtype('>f4'))\n",
      "Electron_phi         | float[]                  | AsJagged(AsDtype('>f4'))\n",
      "Electron_pt          | float[]                  | AsJagged(AsDtype('>f4'))\n",
      "Electron_r9          | float[]                  | AsJagged(AsDtype('>f4'))\n",
      "Electron_scEtOverPt  | float[]                  | AsJagged(AsDtype('>f4'))\n",
      "Electron_sieie       | float[]                  | AsJagged(AsDtype('>f4'))\n",
      "Electron_sip3d       | float[]                  | AsJagged(AsDtype('>f4'))\n",
      "Electron_mvaTTH      | float[]                  | AsJagged(AsDtype('>f4'))\n",
      "Electron_charge      | int32_t[]                | AsJagged(AsDtype('>i4'))\n",
      "Electron_cutBased    | int32_t[]                | AsJagged(AsDtype('>i4'))\n",
      "Electron_jetIdx      | int32_t[]                | AsJagged(AsDtype('>i4'))\n",
      "Electron_pdgId       | int32_t[]                | AsJagged(AsDtype('>i4'))\n",
      "Electron_photonIdx   | int32_t[]                | AsJagged(AsDtype('>i4'))\n",
      "Electron_tightCharge | int32_t[]                | AsJagged(AsDtype('>i4'))\n",
      "Electron_vidNeste... | int32_t[]                | AsJagged(AsDtype('>i4'))\n",
      "Electron_vidNeste... | int32_t[]                | AsJagged(AsDtype('>i4'))\n",
      "Electron_convVeto    | bool[]                   | AsJagged(AsDtype('bool'))\n",
      "Electron_cutBased... | bool[]                   | AsJagged(AsDtype('bool'))\n",
      "Electron_isPFcand    | bool[]                   | AsJagged(AsDtype('bool'))\n",
      "Electron_jetNDauC... | uint8_t[]                | AsJagged(AsDtype('uint8'))\n",
      "Electron_lostHits    | uint8_t[]                | AsJagged(AsDtype('uint8'))\n",
      "Electron_mvaFall1... | bool[]                   | AsJagged(AsDtype('bool'))\n",
      "Electron_mvaFall1... | bool[]                   | AsJagged(AsDtype('bool'))\n",
      "Electron_mvaFall1... | bool[]                   | AsJagged(AsDtype('bool'))\n",
      "Electron_mvaFall1... | bool[]                   | AsJagged(AsDtype('bool'))\n",
      "Electron_mvaFall1... | bool[]                   | AsJagged(AsDtype('bool'))\n",
      "Electron_mvaFall1... | bool[]                   | AsJagged(AsDtype('bool'))\n",
      "Electron_seedGain    | uint8_t[]                | AsJagged(AsDtype('uint8'))\n",
      "nFatJet              | uint32_t                 | AsDtype('>u4')\n",
      "FatJet_area          | float[]                  | AsJagged(AsDtype('>f4'))\n",
      "FatJet_btagCSVV2     | float[]                  | AsJagged(AsDtype('>f4'))\n",
      "FatJet_btagDDBvLV2   | float[]                  | AsJagged(AsDtype('>f4'))\n",
      "FatJet_btagDDCvBV2   | float[]                  | AsJagged(AsDtype('>f4'))\n",
      "FatJet_btagDDCvLV2   | float[]                  | AsJagged(AsDtype('>f4'))\n",
      "FatJet_btagDeepB     | float[]                  | AsJagged(AsDtype('>f4'))\n",
      "FatJet_btagHbb       | float[]                  | AsJagged(AsDtype('>f4'))\n",
      "FatJet_deepTagMD_... | float[]                  | AsJagged(AsDtype('>f4'))\n",
      "FatJet_deepTagMD_... | float[]                  | AsJagged(AsDtype('>f4'))\n",
      "FatJet_deepTagMD_... | float[]                  | AsJagged(AsDtype('>f4'))\n",
      "FatJet_deepTagMD_... | float[]                  | AsJagged(AsDtype('>f4'))\n",
      "FatJet_deepTagMD_... | float[]                  | AsJagged(AsDtype('>f4'))\n",
      "FatJet_deepTagMD_... | float[]                  | AsJagged(AsDtype('>f4'))\n",
      "FatJet_deepTagMD_... | float[]                  | AsJagged(AsDtype('>f4'))\n",
      "FatJet_deepTagMD_... | float[]                  | AsJagged(AsDtype('>f4'))\n",
      "FatJet_deepTagMD_... | float[]                  | AsJagged(AsDtype('>f4'))\n",
      "FatJet_deepTagMD_... | float[]                  | AsJagged(AsDtype('>f4'))\n",
      "FatJet_deepTag_H     | float[]                  | AsJagged(AsDtype('>f4'))\n",
      "FatJet_deepTag_QCD   | float[]                  | AsJagged(AsDtype('>f4'))\n",
      "FatJet_deepTag_QC... | float[]                  | AsJagged(AsDtype('>f4'))\n",
      "FatJet_deepTag_Tv... | float[]                  | AsJagged(AsDtype('>f4'))\n",
      "FatJet_deepTag_Wv... | float[]                  | AsJagged(AsDtype('>f4'))\n",
      "FatJet_deepTag_Zv... | float[]                  | AsJagged(AsDtype('>f4'))\n",
      "FatJet_eta           | float[]                  | AsJagged(AsDtype('>f4'))\n",
      "FatJet_mass          | float[]                  | AsJagged(AsDtype('>f4'))\n",
      "FatJet_msoftdrop     | float[]                  | AsJagged(AsDtype('>f4'))\n",
      "FatJet_n2b1          | float[]                  | AsJagged(AsDtype('>f4'))\n",
      "FatJet_n3b1          | float[]                  | AsJagged(AsDtype('>f4'))\n",
      "FatJet_particleNe... | float[]                  | AsJagged(AsDtype('>f4'))\n",
      "FatJet_particleNe... | float[]                  | AsJagged(AsDtype('>f4'))\n",
      "FatJet_particleNe... | float[]                  | AsJagged(AsDtype('>f4'))\n",
      "FatJet_particleNe... | float[]                  | AsJagged(AsDtype('>f4'))\n",
      "FatJet_particleNe... | float[]                  | AsJagged(AsDtype('>f4'))\n",
      "FatJet_particleNe... | float[]                  | AsJagged(AsDtype('>f4'))\n",
      "FatJet_particleNe... | float[]                  | AsJagged(AsDtype('>f4'))\n",
      "FatJet_particleNe... | float[]                  | AsJagged(AsDtype('>f4'))\n",
      "FatJet_particleNe... | float[]                  | AsJagged(AsDtype('>f4'))\n",
      "FatJet_particleNe... | float[]                  | AsJagged(AsDtype('>f4'))\n",
      "FatJet_particleNe... | float[]                  | AsJagged(AsDtype('>f4'))\n",
      "FatJet_particleNe... | float[]                  | AsJagged(AsDtype('>f4'))\n",
      "FatJet_phi           | float[]                  | AsJagged(AsDtype('>f4'))\n",
      "FatJet_pt            | float[]                  | AsJagged(AsDtype('>f4'))\n",
      "FatJet_rawFactor     | float[]                  | AsJagged(AsDtype('>f4'))\n",
      "FatJet_tau1          | float[]                  | AsJagged(AsDtype('>f4'))\n",
      "FatJet_tau2          | float[]                  | AsJagged(AsDtype('>f4'))\n",
      "FatJet_tau3          | float[]                  | AsJagged(AsDtype('>f4'))\n",
      "FatJet_tau4          | float[]                  | AsJagged(AsDtype('>f4'))\n",
      "FatJet_lsf3          | float[]                  | AsJagged(AsDtype('>f4'))\n",
      "FatJet_jetId         | int32_t[]                | AsJagged(AsDtype('>i4'))\n",
      "FatJet_subJetIdx1    | int32_t[]                | AsJagged(AsDtype('>i4'))\n",
      "FatJet_subJetIdx2    | int32_t[]                | AsJagged(AsDtype('>i4'))\n",
      "FatJet_electronId... | int32_t[]                | AsJagged(AsDtype('>i4'))\n",
      "FatJet_muonIdx3SJ    | int32_t[]                | AsJagged(AsDtype('>i4'))\n",
      "FatJet_nConstituents | uint8_t[]                | AsJagged(AsDtype('uint8'))\n",
      "nFsrPhoton           | uint32_t                 | AsDtype('>u4')\n",
      "FsrPhoton_dROverEt2  | float[]                  | AsJagged(AsDtype('>f4'))\n",
      "FsrPhoton_eta        | float[]                  | AsJagged(AsDtype('>f4'))\n",
      "FsrPhoton_phi        | float[]                  | AsJagged(AsDtype('>f4'))\n",
      "FsrPhoton_pt         | float[]                  | AsJagged(AsDtype('>f4'))\n",
      "FsrPhoton_relIso03   | float[]                  | AsJagged(AsDtype('>f4'))\n",
      "FsrPhoton_muonIdx    | int32_t[]                | AsJagged(AsDtype('>i4'))\n",
      "nIsoTrack            | uint32_t                 | AsDtype('>u4')\n",
      "IsoTrack_dxy         | float[]                  | AsJagged(AsDtype('>f4'))\n",
      "IsoTrack_dz          | float[]                  | AsJagged(AsDtype('>f4'))\n",
      "IsoTrack_eta         | float[]                  | AsJagged(AsDtype('>f4'))\n",
      "IsoTrack_pfRelIso... | float[]                  | AsJagged(AsDtype('>f4'))\n",
      "IsoTrack_pfRelIso... | float[]                  | AsJagged(AsDtype('>f4'))\n",
      "IsoTrack_phi         | float[]                  | AsJagged(AsDtype('>f4'))\n",
      "IsoTrack_pt          | float[]                  | AsJagged(AsDtype('>f4'))\n",
      "IsoTrack_miniPFRe... | float[]                  | AsJagged(AsDtype('>f4'))\n",
      "IsoTrack_miniPFRe... | float[]                  | AsJagged(AsDtype('>f4'))\n",
      "IsoTrack_charge      | int32_t[]                | AsJagged(AsDtype('>i4'))\n",
      "IsoTrack_fromPV      | int32_t[]                | AsJagged(AsDtype('>i4'))\n",
      "IsoTrack_pdgId       | int32_t[]                | AsJagged(AsDtype('>i4'))\n",
      "IsoTrack_isHighPu... | bool[]                   | AsJagged(AsDtype('bool'))\n",
      "IsoTrack_isPFcand    | bool[]                   | AsJagged(AsDtype('bool'))\n",
      "IsoTrack_isFromLo... | bool[]                   | AsJagged(AsDtype('bool'))\n",
      "nJet                 | uint32_t                 | AsDtype('>u4')\n",
      "Jet_area             | float[]                  | AsJagged(AsDtype('>f4'))\n",
      "Jet_btagCSVV2        | float[]                  | AsJagged(AsDtype('>f4'))\n",
      "Jet_btagDeepB        | float[]                  | AsJagged(AsDtype('>f4'))\n",
      "Jet_btagDeepCvB      | float[]                  | AsJagged(AsDtype('>f4'))\n",
      "Jet_btagDeepCvL      | float[]                  | AsJagged(AsDtype('>f4'))\n",
      "Jet_btagDeepFlavB    | float[]                  | AsJagged(AsDtype('>f4'))\n",
      "Jet_btagDeepFlavCvB  | float[]                  | AsJagged(AsDtype('>f4'))\n",
      "Jet_btagDeepFlavCvL  | float[]                  | AsJagged(AsDtype('>f4'))\n",
      "Jet_btagDeepFlavQG   | float[]                  | AsJagged(AsDtype('>f4'))\n",
      "Jet_chEmEF           | float[]                  | AsJagged(AsDtype('>f4'))\n",
      "Jet_chFPV0EF         | float[]                  | AsJagged(AsDtype('>f4'))\n",
      "Jet_chHEF            | float[]                  | AsJagged(AsDtype('>f4'))\n",
      "Jet_eta              | float[]                  | AsJagged(AsDtype('>f4'))\n",
      "Jet_hfsigmaEtaEta    | float[]                  | AsJagged(AsDtype('>f4'))\n",
      "Jet_hfsigmaPhiPhi    | float[]                  | AsJagged(AsDtype('>f4'))\n",
      "Jet_mass             | float[]                  | AsJagged(AsDtype('>f4'))\n",
      "Jet_muEF             | float[]                  | AsJagged(AsDtype('>f4'))\n",
      "Jet_muonSubtrFactor  | float[]                  | AsJagged(AsDtype('>f4'))\n",
      "Jet_neEmEF           | float[]                  | AsJagged(AsDtype('>f4'))\n",
      "Jet_neHEF            | float[]                  | AsJagged(AsDtype('>f4'))\n",
      "Jet_phi              | float[]                  | AsJagged(AsDtype('>f4'))\n",
      "Jet_pt               | float[]                  | AsJagged(AsDtype('>f4'))\n",
      "Jet_puIdDisc         | float[]                  | AsJagged(AsDtype('>f4'))\n",
      "Jet_qgl              | float[]                  | AsJagged(AsDtype('>f4'))\n",
      "Jet_rawFactor        | float[]                  | AsJagged(AsDtype('>f4'))\n",
      "Jet_bRegCorr         | float[]                  | AsJagged(AsDtype('>f4'))\n",
      "Jet_bRegRes          | float[]                  | AsJagged(AsDtype('>f4'))\n",
      "Jet_cRegCorr         | float[]                  | AsJagged(AsDtype('>f4'))\n",
      "Jet_cRegRes          | float[]                  | AsJagged(AsDtype('>f4'))\n",
      "Jet_electronIdx1     | int32_t[]                | AsJagged(AsDtype('>i4'))\n",
      "Jet_electronIdx2     | int32_t[]                | AsJagged(AsDtype('>i4'))\n",
      "Jet_hfadjacentEta... | int32_t[]                | AsJagged(AsDtype('>i4'))\n",
      "Jet_hfcentralEtaS... | int32_t[]                | AsJagged(AsDtype('>i4'))\n",
      "Jet_jetId            | int32_t[]                | AsJagged(AsDtype('>i4'))\n",
      "Jet_muonIdx1         | int32_t[]                | AsJagged(AsDtype('>i4'))\n",
      "Jet_muonIdx2         | int32_t[]                | AsJagged(AsDtype('>i4'))\n",
      "Jet_nElectrons       | int32_t[]                | AsJagged(AsDtype('>i4'))\n",
      "Jet_nMuons           | int32_t[]                | AsJagged(AsDtype('>i4'))\n",
      "Jet_puId             | int32_t[]                | AsJagged(AsDtype('>i4'))\n",
      "Jet_nConstituents    | uint8_t[]                | AsJagged(AsDtype('uint8'))\n",
      "L1PreFiringWeight_Dn | float                    | AsDtype('>f4')\n",
      "L1PreFiringWeight... | float                    | AsDtype('>f4')\n",
      "L1PreFiringWeight... | float                    | AsDtype('>f4')\n",
      "L1PreFiringWeight... | float                    | AsDtype('>f4')\n",
      "L1PreFiringWeight... | float                    | AsDtype('>f4')\n",
      "L1PreFiringWeight... | float                    | AsDtype('>f4')\n",
      "L1PreFiringWeight... | float                    | AsDtype('>f4')\n",
      "L1PreFiringWeight... | float                    | AsDtype('>f4')\n",
      "L1PreFiringWeight... | float                    | AsDtype('>f4')\n",
      "L1PreFiringWeight... | float                    | AsDtype('>f4')\n",
      "L1PreFiringWeight_Up | float                    | AsDtype('>f4')\n",
      "nLowPtElectron       | uint32_t                 | AsDtype('>u4')\n",
      "LowPtElectron_ID     | float[]                  | AsJagged(AsDtype('>f4'))\n",
      "LowPtElectron_con... | float[]                  | AsJagged(AsDtype('>f4'))\n",
      "LowPtElectron_del... | float[]                  | AsJagged(AsDtype('>f4'))\n",
      "LowPtElectron_dxy    | float[]                  | AsJagged(AsDtype('>f4'))\n",
      "LowPtElectron_dxyErr | float[]                  | AsJagged(AsDtype('>f4'))\n",
      "LowPtElectron_dz     | float[]                  | AsJagged(AsDtype('>f4'))\n",
      "LowPtElectron_dzErr  | float[]                  | AsJagged(AsDtype('>f4'))\n",
      "LowPtElectron_eIn... | float[]                  | AsJagged(AsDtype('>f4'))\n",
      "LowPtElectron_emb... | float[]                  | AsJagged(AsDtype('>f4'))\n",
      "LowPtElectron_ene... | float[]                  | AsJagged(AsDtype('>f4'))\n",
      "LowPtElectron_eta    | float[]                  | AsJagged(AsDtype('>f4'))\n",
      "LowPtElectron_hoe    | float[]                  | AsJagged(AsDtype('>f4'))\n",
      "LowPtElectron_mass   | float[]                  | AsJagged(AsDtype('>f4'))\n",
      "LowPtElectron_min... | float[]                  | AsJagged(AsDtype('>f4'))\n",
      "LowPtElectron_min... | float[]                  | AsJagged(AsDtype('>f4'))\n",
      "LowPtElectron_phi    | float[]                  | AsJagged(AsDtype('>f4'))\n",
      "LowPtElectron_pt     | float[]                  | AsJagged(AsDtype('>f4'))\n",
      "LowPtElectron_ptb... | float[]                  | AsJagged(AsDtype('>f4'))\n",
      "LowPtElectron_r9     | float[]                  | AsJagged(AsDtype('>f4'))\n",
      "LowPtElectron_scE... | float[]                  | AsJagged(AsDtype('>f4'))\n",
      "LowPtElectron_sieie  | float[]                  | AsJagged(AsDtype('>f4'))\n",
      "LowPtElectron_unb... | float[]                  | AsJagged(AsDtype('>f4'))\n",
      "LowPtElectron_charge | int32_t[]                | AsJagged(AsDtype('>i4'))\n",
      "LowPtElectron_convWP | int32_t[]                | AsJagged(AsDtype('>i4'))\n",
      "LowPtElectron_pdgId  | int32_t[]                | AsJagged(AsDtype('>i4'))\n",
      "LowPtElectron_con... | bool[]                   | AsJagged(AsDtype('bool'))\n",
      "LowPtElectron_los... | uint8_t[]                | AsJagged(AsDtype('uint8'))\n",
      "MET_MetUnclustEnU... | float                    | AsDtype('>f4')\n",
      "MET_MetUnclustEnU... | float                    | AsDtype('>f4')\n",
      "MET_covXX            | float                    | AsDtype('>f4')\n",
      "MET_covXY            | float                    | AsDtype('>f4')\n",
      "MET_covYY            | float                    | AsDtype('>f4')\n",
      "MET_phi              | float                    | AsDtype('>f4')\n",
      "MET_pt               | float                    | AsDtype('>f4')\n",
      "MET_significance     | float                    | AsDtype('>f4')\n",
      "MET_sumEt            | float                    | AsDtype('>f4')\n",
      "MET_sumPtUnclustered | float                    | AsDtype('>f4')\n",
      "nProton_multiRP      | uint32_t                 | AsDtype('>u4')\n",
      "Proton_multiRP_t     | float[]                  | AsJagged(AsDtype('>f4'))\n",
      "Proton_multiRP_th... | float[]                  | AsJagged(AsDtype('>f4'))\n",
      "Proton_multiRP_th... | float[]                  | AsJagged(AsDtype('>f4'))\n",
      "Proton_multiRP_time  | float[]                  | AsJagged(AsDtype('>f4'))\n",
      "Proton_multiRP_ti... | float[]                  | AsJagged(AsDtype('>f4'))\n",
      "Proton_multiRP_xi    | float[]                  | AsJagged(AsDtype('>f4'))\n",
      "Proton_multiRP_arm   | int32_t[]                | AsJagged(AsDtype('>i4'))\n",
      "nMuon                | uint32_t                 | AsDtype('>u4')\n",
      "Muon_dxy             | float[]                  | AsJagged(AsDtype('>f4'))\n",
      "Muon_dxyErr          | float[]                  | AsJagged(AsDtype('>f4'))\n",
      "Muon_dxybs           | float[]                  | AsJagged(AsDtype('>f4'))\n",
      "Muon_dz              | float[]                  | AsJagged(AsDtype('>f4'))\n",
      "Muon_dzErr           | float[]                  | AsJagged(AsDtype('>f4'))\n",
      "Muon_eta             | float[]                  | AsJagged(AsDtype('>f4'))\n",
      "Muon_ip3d            | float[]                  | AsJagged(AsDtype('>f4'))\n",
      "Muon_jetPtRelv2      | float[]                  | AsJagged(AsDtype('>f4'))\n",
      "Muon_jetRelIso       | float[]                  | AsJagged(AsDtype('>f4'))\n",
      "Muon_mass            | float[]                  | AsJagged(AsDtype('>f4'))\n",
      "Muon_miniPFRelIso... | float[]                  | AsJagged(AsDtype('>f4'))\n",
      "Muon_miniPFRelIso... | float[]                  | AsJagged(AsDtype('>f4'))\n",
      "Muon_pfRelIso03_all  | float[]                  | AsJagged(AsDtype('>f4'))\n",
      "Muon_pfRelIso03_chg  | float[]                  | AsJagged(AsDtype('>f4'))\n",
      "Muon_pfRelIso04_all  | float[]                  | AsJagged(AsDtype('>f4'))\n",
      "Muon_phi             | float[]                  | AsJagged(AsDtype('>f4'))\n",
      "Muon_pt              | float[]                  | AsJagged(AsDtype('>f4'))\n",
      "Muon_ptErr           | float[]                  | AsJagged(AsDtype('>f4'))\n",
      "Muon_segmentComp     | float[]                  | AsJagged(AsDtype('>f4'))\n",
      "Muon_sip3d           | float[]                  | AsJagged(AsDtype('>f4'))\n",
      "Muon_softMva         | float[]                  | AsJagged(AsDtype('>f4'))\n",
      "Muon_tkRelIso        | float[]                  | AsJagged(AsDtype('>f4'))\n",
      "Muon_tunepRelPt      | float[]                  | AsJagged(AsDtype('>f4'))\n",
      "Muon_mvaLowPt        | float[]                  | AsJagged(AsDtype('>f4'))\n",
      "Muon_mvaTTH          | float[]                  | AsJagged(AsDtype('>f4'))\n",
      "Muon_charge          | int32_t[]                | AsJagged(AsDtype('>i4'))\n",
      "Muon_jetIdx          | int32_t[]                | AsJagged(AsDtype('>i4'))\n",
      "Muon_nStations       | int32_t[]                | AsJagged(AsDtype('>i4'))\n",
      "Muon_nTrackerLayers  | int32_t[]                | AsJagged(AsDtype('>i4'))\n",
      "Muon_pdgId           | int32_t[]                | AsJagged(AsDtype('>i4'))\n",
      "Muon_tightCharge     | int32_t[]                | AsJagged(AsDtype('>i4'))\n",
      "Muon_fsrPhotonIdx    | int32_t[]                | AsJagged(AsDtype('>i4'))\n",
      "Muon_highPtId        | uint8_t[]                | AsJagged(AsDtype('uint8'))\n",
      "Muon_highPurity      | bool[]                   | AsJagged(AsDtype('bool'))\n",
      "Muon_inTimeMuon      | bool[]                   | AsJagged(AsDtype('bool'))\n",
      "Muon_isGlobal        | bool[]                   | AsJagged(AsDtype('bool'))\n",
      "Muon_isPFcand        | bool[]                   | AsJagged(AsDtype('bool'))\n",
      "Muon_isStandalone    | bool[]                   | AsJagged(AsDtype('bool'))\n",
      "Muon_isTracker       | bool[]                   | AsJagged(AsDtype('bool'))\n",
      "Muon_jetNDauCharged  | uint8_t[]                | AsJagged(AsDtype('uint8'))\n",
      "Muon_looseId         | bool[]                   | AsJagged(AsDtype('bool'))\n",
      "Muon_mediumId        | bool[]                   | AsJagged(AsDtype('bool'))\n",
      "Muon_mediumPromptId  | bool[]                   | AsJagged(AsDtype('bool'))\n",
      "Muon_miniIsoId       | uint8_t[]                | AsJagged(AsDtype('uint8'))\n",
      "Muon_multiIsoId      | uint8_t[]                | AsJagged(AsDtype('uint8'))\n",
      "Muon_mvaId           | uint8_t[]                | AsJagged(AsDtype('uint8'))\n",
      "Muon_mvaLowPtId      | uint8_t[]                | AsJagged(AsDtype('uint8'))\n",
      "Muon_pfIsoId         | uint8_t[]                | AsJagged(AsDtype('uint8'))\n",
      "Muon_puppiIsoId      | uint8_t[]                | AsJagged(AsDtype('uint8'))\n",
      "Muon_softId          | bool[]                   | AsJagged(AsDtype('bool'))\n",
      "Muon_softMvaId       | bool[]                   | AsJagged(AsDtype('bool'))\n",
      "Muon_tightId         | bool[]                   | AsJagged(AsDtype('bool'))\n",
      "Muon_tkIsoId         | uint8_t[]                | AsJagged(AsDtype('uint8'))\n",
      "Muon_triggerIdLoose  | bool[]                   | AsJagged(AsDtype('bool'))\n",
      "nPhoton              | uint32_t                 | AsDtype('>u4')\n",
      "Photon_dEscaleDown   | float[]                  | AsJagged(AsDtype('>f4'))\n",
      "Photon_dEscaleUp     | float[]                  | AsJagged(AsDtype('>f4'))\n",
      "Photon_dEsigmaDown   | float[]                  | AsJagged(AsDtype('>f4'))\n",
      "Photon_dEsigmaUp     | float[]                  | AsJagged(AsDtype('>f4'))\n",
      "Photon_eCorr         | float[]                  | AsJagged(AsDtype('>f4'))\n",
      "Photon_energyErr     | float[]                  | AsJagged(AsDtype('>f4'))\n",
      "Photon_eta           | float[]                  | AsJagged(AsDtype('>f4'))\n",
      "Photon_hoe           | float[]                  | AsJagged(AsDtype('>f4'))\n",
      "Photon_mass          | float[]                  | AsJagged(AsDtype('>f4'))\n",
      "Photon_mvaID         | float[]                  | AsJagged(AsDtype('>f4'))\n",
      "Photon_mvaID_Fall... | float[]                  | AsJagged(AsDtype('>f4'))\n",
      "Photon_pfRelIso03... | float[]                  | AsJagged(AsDtype('>f4'))\n",
      "Photon_pfRelIso03... | float[]                  | AsJagged(AsDtype('>f4'))\n",
      "Photon_phi           | float[]                  | AsJagged(AsDtype('>f4'))\n",
      "Photon_pt            | float[]                  | AsJagged(AsDtype('>f4'))\n",
      "Photon_r9            | float[]                  | AsJagged(AsDtype('>f4'))\n",
      "Photon_sieie         | float[]                  | AsJagged(AsDtype('>f4'))\n",
      "Photon_charge        | int32_t[]                | AsJagged(AsDtype('>i4'))\n",
      "Photon_cutBased      | int32_t[]                | AsJagged(AsDtype('>i4'))\n",
      "Photon_cutBased_F... | int32_t[]                | AsJagged(AsDtype('>i4'))\n",
      "Photon_electronIdx   | int32_t[]                | AsJagged(AsDtype('>i4'))\n",
      "Photon_jetIdx        | int32_t[]                | AsJagged(AsDtype('>i4'))\n",
      "Photon_pdgId         | int32_t[]                | AsJagged(AsDtype('>i4'))\n",
      "Photon_vidNestedW... | int32_t[]                | AsJagged(AsDtype('>i4'))\n",
      "Photon_electronVeto  | bool[]                   | AsJagged(AsDtype('bool'))\n",
      "Photon_isScEtaEB     | bool[]                   | AsJagged(AsDtype('bool'))\n",
      "Photon_isScEtaEE     | bool[]                   | AsJagged(AsDtype('bool'))\n",
      "Photon_mvaID_WP80    | bool[]                   | AsJagged(AsDtype('bool'))\n",
      "Photon_mvaID_WP90    | bool[]                   | AsJagged(AsDtype('bool'))\n",
      "Photon_pixelSeed     | bool[]                   | AsJagged(AsDtype('bool'))\n",
      "Photon_seedGain      | uint8_t[]                | AsJagged(AsDtype('uint8'))\n",
      "nPPSLocalTrack       | uint32_t                 | AsDtype('>u4')\n",
      "PPSLocalTrack_x      | float[]                  | AsJagged(AsDtype('>f4'))\n",
      "PPSLocalTrack_y      | float[]                  | AsJagged(AsDtype('>f4'))\n",
      "PPSLocalTrack_time   | float[]                  | AsJagged(AsDtype('>f4'))\n",
      "PPSLocalTrack_tim... | float[]                  | AsJagged(AsDtype('>f4'))\n",
      "PPSLocalTrack_mul... | int32_t[]                | AsJagged(AsDtype('>i4'))\n",
      "PPSLocalTrack_sin... | int32_t[]                | AsJagged(AsDtype('>i4'))\n",
      "PPSLocalTrack_dec... | int32_t[]                | AsJagged(AsDtype('>i4'))\n",
      "PPSLocalTrack_rpType | int32_t[]                | AsJagged(AsDtype('>i4'))\n",
      "PuppiMET_phi         | float                    | AsDtype('>f4')\n",
      "PuppiMET_phiJERDown  | float                    | AsDtype('>f4')\n",
      "PuppiMET_phiJERUp    | float                    | AsDtype('>f4')\n",
      "PuppiMET_phiJESDown  | float                    | AsDtype('>f4')\n",
      "PuppiMET_phiJESUp    | float                    | AsDtype('>f4')\n",
      "PuppiMET_phiUnclu... | float                    | AsDtype('>f4')\n",
      "PuppiMET_phiUnclu... | float                    | AsDtype('>f4')\n",
      "PuppiMET_pt          | float                    | AsDtype('>f4')\n",
      "PuppiMET_ptJERDown   | float                    | AsDtype('>f4')\n",
      "PuppiMET_ptJERUp     | float                    | AsDtype('>f4')\n",
      "PuppiMET_ptJESDown   | float                    | AsDtype('>f4')\n",
      "PuppiMET_ptJESUp     | float                    | AsDtype('>f4')\n",
      "PuppiMET_ptUnclus... | float                    | AsDtype('>f4')\n",
      "PuppiMET_ptUnclus... | float                    | AsDtype('>f4')\n",
      "PuppiMET_sumEt       | float                    | AsDtype('>f4')\n",
      "RawMET_phi           | float                    | AsDtype('>f4')\n",
      "RawMET_pt            | float                    | AsDtype('>f4')\n",
      "RawMET_sumEt         | float                    | AsDtype('>f4')\n",
      "RawPuppiMET_phi      | float                    | AsDtype('>f4')\n",
      "RawPuppiMET_pt       | float                    | AsDtype('>f4')\n",
      "RawPuppiMET_sumEt    | float                    | AsDtype('>f4')\n",
      "fixedGridRhoFastj... | float                    | AsDtype('>f4')\n",
      "fixedGridRhoFastj... | float                    | AsDtype('>f4')\n",
      "fixedGridRhoFastj... | float                    | AsDtype('>f4')\n",
      "fixedGridRhoFastj... | float                    | AsDtype('>f4')\n",
      "fixedGridRhoFastj... | float                    | AsDtype('>f4')\n",
      "nSoftActivityJet     | uint32_t                 | AsDtype('>u4')\n",
      "SoftActivityJet_eta  | float[]                  | AsJagged(AsDtype('>f4'))\n",
      "SoftActivityJet_phi  | float[]                  | AsJagged(AsDtype('>f4'))\n",
      "SoftActivityJet_pt   | float[]                  | AsJagged(AsDtype('>f4'))\n",
      "SoftActivityJetHT    | float                    | AsDtype('>f4')\n",
      "SoftActivityJetHT10  | float                    | AsDtype('>f4')\n",
      "SoftActivityJetHT2   | float                    | AsDtype('>f4')\n",
      "SoftActivityJetHT5   | float                    | AsDtype('>f4')\n",
      "SoftActivityJetNj... | int32_t                  | AsDtype('>i4')\n",
      "SoftActivityJetNj... | int32_t                  | AsDtype('>i4')\n",
      "SoftActivityJetNj... | int32_t                  | AsDtype('>i4')\n",
      "nProton_singleRP     | uint32_t                 | AsDtype('>u4')\n",
      "Proton_singleRP_t... | float[]                  | AsJagged(AsDtype('>f4'))\n",
      "Proton_singleRP_xi   | float[]                  | AsJagged(AsDtype('>f4'))\n",
      "Proton_singleRP_d... | int32_t[]                | AsJagged(AsDtype('>i4'))\n",
      "nSubJet              | uint32_t                 | AsDtype('>u4')\n",
      "SubJet_btagCSVV2     | float[]                  | AsJagged(AsDtype('>f4'))\n",
      "SubJet_btagDeepB     | float[]                  | AsJagged(AsDtype('>f4'))\n",
      "SubJet_eta           | float[]                  | AsJagged(AsDtype('>f4'))\n",
      "SubJet_mass          | float[]                  | AsJagged(AsDtype('>f4'))\n",
      "SubJet_n2b1          | float[]                  | AsJagged(AsDtype('>f4'))\n",
      "SubJet_n3b1          | float[]                  | AsJagged(AsDtype('>f4'))\n",
      "SubJet_phi           | float[]                  | AsJagged(AsDtype('>f4'))\n",
      "SubJet_pt            | float[]                  | AsJagged(AsDtype('>f4'))\n",
      "SubJet_rawFactor     | float[]                  | AsJagged(AsDtype('>f4'))\n",
      "SubJet_tau1          | float[]                  | AsJagged(AsDtype('>f4'))\n",
      "SubJet_tau2          | float[]                  | AsJagged(AsDtype('>f4'))\n",
      "SubJet_tau3          | float[]                  | AsJagged(AsDtype('>f4'))\n",
      "SubJet_tau4          | float[]                  | AsJagged(AsDtype('>f4'))\n",
      "nTau                 | uint32_t                 | AsDtype('>u4')\n",
      "Tau_chargedIso       | float[]                  | AsJagged(AsDtype('>f4'))\n",
      "Tau_dxy              | float[]                  | AsJagged(AsDtype('>f4'))\n",
      "Tau_dz               | float[]                  | AsJagged(AsDtype('>f4'))\n",
      "Tau_eta              | float[]                  | AsJagged(AsDtype('>f4'))\n",
      "Tau_leadTkDeltaEta   | float[]                  | AsJagged(AsDtype('>f4'))\n",
      "Tau_leadTkDeltaPhi   | float[]                  | AsJagged(AsDtype('>f4'))\n",
      "Tau_leadTkPtOverT... | float[]                  | AsJagged(AsDtype('>f4'))\n",
      "Tau_mass             | float[]                  | AsJagged(AsDtype('>f4'))\n",
      "Tau_neutralIso       | float[]                  | AsJagged(AsDtype('>f4'))\n",
      "Tau_phi              | float[]                  | AsJagged(AsDtype('>f4'))\n",
      "Tau_photonsOutsid... | float[]                  | AsJagged(AsDtype('>f4'))\n",
      "Tau_pt               | float[]                  | AsJagged(AsDtype('>f4'))\n",
      "Tau_puCorr           | float[]                  | AsJagged(AsDtype('>f4'))\n",
      "Tau_rawDeepTau201... | float[]                  | AsJagged(AsDtype('>f4'))\n",
      "Tau_rawDeepTau201... | float[]                  | AsJagged(AsDtype('>f4'))\n",
      "Tau_rawDeepTau201... | float[]                  | AsJagged(AsDtype('>f4'))\n",
      "Tau_rawIso           | float[]                  | AsJagged(AsDtype('>f4'))\n",
      "Tau_rawIsodR03       | float[]                  | AsJagged(AsDtype('>f4'))\n",
      "Tau_charge           | int32_t[]                | AsJagged(AsDtype('>i4'))\n",
      "Tau_decayMode        | int32_t[]                | AsJagged(AsDtype('>i4'))\n",
      "Tau_jetIdx           | int32_t[]                | AsJagged(AsDtype('>i4'))\n",
      "Tau_idAntiEleDead... | bool[]                   | AsJagged(AsDtype('bool'))\n",
      "Tau_idAntiMu         | uint8_t[]                | AsJagged(AsDtype('uint8'))\n",
      "Tau_idDecayModeOl... | bool[]                   | AsJagged(AsDtype('bool'))\n",
      "Tau_idDeepTau2017... | uint8_t[]                | AsJagged(AsDtype('uint8'))\n",
      "Tau_idDeepTau2017... | uint8_t[]                | AsJagged(AsDtype('uint8'))\n",
      "Tau_idDeepTau2017... | uint8_t[]                | AsJagged(AsDtype('uint8'))\n",
      "TkMET_phi            | float                    | AsDtype('>f4')\n",
      "TkMET_pt             | float                    | AsDtype('>f4')\n",
      "TkMET_sumEt          | float                    | AsDtype('>f4')\n",
      "nTrigObj             | uint32_t                 | AsDtype('>u4')\n",
      "TrigObj_pt           | float[]                  | AsJagged(AsDtype('>f4'))\n",
      "TrigObj_eta          | float[]                  | AsJagged(AsDtype('>f4'))\n",
      "TrigObj_phi          | float[]                  | AsJagged(AsDtype('>f4'))\n",
      "TrigObj_l1pt         | float[]                  | AsJagged(AsDtype('>f4'))\n",
      "TrigObj_l1pt_2       | float[]                  | AsJagged(AsDtype('>f4'))\n",
      "TrigObj_l2pt         | float[]                  | AsJagged(AsDtype('>f4'))\n",
      "TrigObj_id           | int32_t[]                | AsJagged(AsDtype('>i4'))\n",
      "TrigObj_l1iso        | int32_t[]                | AsJagged(AsDtype('>i4'))\n",
      "TrigObj_l1charge     | int32_t[]                | AsJagged(AsDtype('>i4'))\n",
      "TrigObj_filterBits   | int32_t[]                | AsJagged(AsDtype('>i4'))\n",
      "nOtherPV             | uint32_t                 | AsDtype('>u4')\n",
      "OtherPV_z            | float[]                  | AsJagged(AsDtype('>f4'))\n",
      "PV_ndof              | float                    | AsDtype('>f4')\n",
      "PV_x                 | float                    | AsDtype('>f4')\n",
      "PV_y                 | float                    | AsDtype('>f4')\n",
      "PV_z                 | float                    | AsDtype('>f4')\n",
      "PV_chi2              | float                    | AsDtype('>f4')\n",
      "PV_score             | float                    | AsDtype('>f4')\n",
      "PV_npvs              | int32_t                  | AsDtype('>i4')\n",
      "PV_npvsGood          | int32_t                  | AsDtype('>i4')\n",
      "nSV                  | uint32_t                 | AsDtype('>u4')\n",
      "SV_dlen              | float[]                  | AsJagged(AsDtype('>f4'))\n",
      "SV_dlenSig           | float[]                  | AsJagged(AsDtype('>f4'))\n",
      "SV_dxy               | float[]                  | AsJagged(AsDtype('>f4'))\n",
      "SV_dxySig            | float[]                  | AsJagged(AsDtype('>f4'))\n",
      "SV_pAngle            | float[]                  | AsJagged(AsDtype('>f4'))\n",
      "SV_charge            | int32_t[]                | AsJagged(AsDtype('>i4'))\n",
      "Electron_cleanmask   | uint8_t[]                | AsJagged(AsDtype('uint8'))\n",
      "Jet_cleanmask        | uint8_t[]                | AsJagged(AsDtype('uint8'))\n",
      "Muon_cleanmask       | uint8_t[]                | AsJagged(AsDtype('uint8'))\n",
      "Photon_cleanmask     | uint8_t[]                | AsJagged(AsDtype('uint8'))\n",
      "Tau_cleanmask        | uint8_t[]                | AsJagged(AsDtype('uint8'))\n",
      "SV_chi2              | float[]                  | AsJagged(AsDtype('>f4'))\n",
      "SV_eta               | float[]                  | AsJagged(AsDtype('>f4'))\n",
      "SV_mass              | float[]                  | AsJagged(AsDtype('>f4'))\n",
      "SV_ndof              | float[]                  | AsJagged(AsDtype('>f4'))\n",
      "SV_phi               | float[]                  | AsJagged(AsDtype('>f4'))\n",
      "SV_pt                | float[]                  | AsJagged(AsDtype('>f4'))\n",
      "SV_x                 | float[]                  | AsJagged(AsDtype('>f4'))\n",
      "SV_y                 | float[]                  | AsJagged(AsDtype('>f4'))\n",
      "SV_z                 | float[]                  | AsJagged(AsDtype('>f4'))\n",
      "SV_ntracks           | uint8_t[]                | AsJagged(AsDtype('uint8'))\n",
      "L1_AlwaysTrue        | bool                     | AsDtype('bool')\n",
      "L1_BRIL_TRIG0_AND    | bool                     | AsDtype('bool')\n",
      "L1_BRIL_TRIG0_Fst... | bool                     | AsDtype('bool')\n",
      "L1_BRIL_TRIG0_OR     | bool                     | AsDtype('bool')\n",
      "L1_BRIL_TRIG0_del... | bool                     | AsDtype('bool')\n",
      "L1_BeamGasB1         | bool                     | AsDtype('bool')\n",
      "L1_BeamGasB2         | bool                     | AsDtype('bool')\n",
      "L1_BeamGasMinus      | bool                     | AsDtype('bool')\n",
      "L1_BeamGasPlus       | bool                     | AsDtype('bool')\n",
      "L1_BptxMinus         | bool                     | AsDtype('bool')\n",
      "L1_BptxOR            | bool                     | AsDtype('bool')\n",
      "L1_BptxPlus          | bool                     | AsDtype('bool')\n",
      "L1_BptxXOR           | bool                     | AsDtype('bool')\n",
      "L1_DoubleEG6_HTT255  | bool                     | AsDtype('bool')\n",
      "L1_DoubleEG_15_10    | bool                     | AsDtype('bool')\n",
      "L1_DoubleEG_18_17    | bool                     | AsDtype('bool')\n",
      "L1_DoubleEG_20_18    | bool                     | AsDtype('bool')\n",
      "L1_DoubleEG_22_10    | bool                     | AsDtype('bool')\n",
      "L1_DoubleEG_22_12    | bool                     | AsDtype('bool')\n",
      "L1_DoubleEG_22_15    | bool                     | AsDtype('bool')\n",
      "L1_DoubleEG_23_10    | bool                     | AsDtype('bool')\n",
      "L1_DoubleEG_24_17    | bool                     | AsDtype('bool')\n",
      "L1_DoubleEG_25_12    | bool                     | AsDtype('bool')\n",
      "L1_DoubleIsoTau28er  | bool                     | AsDtype('bool')\n",
      "L1_DoubleIsoTau30er  | bool                     | AsDtype('bool')\n",
      "L1_DoubleIsoTau32er  | bool                     | AsDtype('bool')\n",
      "L1_DoubleIsoTau33er  | bool                     | AsDtype('bool')\n",
      "L1_DoubleIsoTau34er  | bool                     | AsDtype('bool')\n",
      "L1_DoubleIsoTau35er  | bool                     | AsDtype('bool')\n",
      "L1_DoubleIsoTau36er  | bool                     | AsDtype('bool')\n",
      "L1_DoubleJet12_Fo... | bool                     | AsDtype('bool')\n",
      "L1_DoubleJet16_Fo... | bool                     | AsDtype('bool')\n",
      "L1_DoubleJet8_For... | bool                     | AsDtype('bool')\n",
      "L1_DoubleJetC100     | bool                     | AsDtype('bool')\n",
      "L1_DoubleJetC112     | bool                     | AsDtype('bool')\n",
      "L1_DoubleJetC120     | bool                     | AsDtype('bool')\n",
      "L1_DoubleJetC40      | bool                     | AsDtype('bool')\n",
      "L1_DoubleJetC50      | bool                     | AsDtype('bool')\n",
      "L1_DoubleJetC60      | bool                     | AsDtype('bool')\n",
      "L1_DoubleJetC60_E... | bool                     | AsDtype('bool')\n",
      "L1_DoubleJetC80      | bool                     | AsDtype('bool')\n",
      "L1_DoubleMu0         | bool                     | AsDtype('bool')\n",
      "L1_DoubleMu0_ETM40   | bool                     | AsDtype('bool')\n",
      "L1_DoubleMu0_ETM55   | bool                     | AsDtype('bool')\n",
      "L1_DoubleMu0_ETM60   | bool                     | AsDtype('bool')\n",
      "L1_DoubleMu0_ETM65   | bool                     | AsDtype('bool')\n",
      "L1_DoubleMu0_ETM70   | bool                     | AsDtype('bool')\n",
      "L1_DoubleMu0er1p4... | bool                     | AsDtype('bool')\n",
      "L1_DoubleMu0er1p6... | bool                     | AsDtype('bool')\n",
      "L1_DoubleMu0er1p6... | bool                     | AsDtype('bool')\n",
      "L1_DoubleMu7_EG14    | bool                     | AsDtype('bool')\n",
      "L1_DoubleMu7_EG7     | bool                     | AsDtype('bool')\n",
      "L1_DoubleMuOpen      | bool                     | AsDtype('bool')\n",
      "L1_DoubleMu_10_0_... | bool                     | AsDtype('bool')\n",
      "L1_DoubleMu_10_3p5   | bool                     | AsDtype('bool')\n",
      "L1_DoubleMu_10_Open  | bool                     | AsDtype('bool')\n",
      "L1_DoubleMu_11_4     | bool                     | AsDtype('bool')\n",
      "L1_DoubleMu_12_5     | bool                     | AsDtype('bool')\n",
      "L1_DoubleMu_12_8     | bool                     | AsDtype('bool')\n",
      "L1_DoubleMu_13_6     | bool                     | AsDtype('bool')\n",
      "L1_DoubleMu_15_5     | bool                     | AsDtype('bool')\n",
      "L1_DoubleTau50er     | bool                     | AsDtype('bool')\n",
      "L1_EG25er_HTT125     | bool                     | AsDtype('bool')\n",
      "L1_EG27er_HTT200     | bool                     | AsDtype('bool')\n",
      "L1_ETM100            | bool                     | AsDtype('bool')\n",
      "L1_ETM120            | bool                     | AsDtype('bool')\n",
      "L1_ETM30             | bool                     | AsDtype('bool')\n",
      "L1_ETM40             | bool                     | AsDtype('bool')\n",
      "L1_ETM50             | bool                     | AsDtype('bool')\n",
      "L1_ETM60             | bool                     | AsDtype('bool')\n",
      "L1_ETM70             | bool                     | AsDtype('bool')\n",
      "L1_ETM75             | bool                     | AsDtype('bool')\n",
      "L1_ETM75_Jet60_dP... | bool                     | AsDtype('bool')\n",
      "L1_ETM80             | bool                     | AsDtype('bool')\n",
      "L1_ETM85             | bool                     | AsDtype('bool')\n",
      "L1_ETM90             | bool                     | AsDtype('bool')\n",
      "L1_ETM95             | bool                     | AsDtype('bool')\n",
      "L1_ETT25             | bool                     | AsDtype('bool')\n",
      "L1_ETT40_BptxAND     | bool                     | AsDtype('bool')\n",
      "L1_ETT50_BptxAND     | bool                     | AsDtype('bool')\n",
      "L1_ETT60_BptxAND     | bool                     | AsDtype('bool')\n",
      "L1_ETT70_BptxAND     | bool                     | AsDtype('bool')\n",
      "L1_FirstBunchAfte... | bool                     | AsDtype('bool')\n",
      "L1_FirstBunchInTrain | bool                     | AsDtype('bool')\n",
      "L1_HTM100            | bool                     | AsDtype('bool')\n",
      "L1_HTM120            | bool                     | AsDtype('bool')\n",
      "L1_HTM130            | bool                     | AsDtype('bool')\n",
      "L1_HTM140            | bool                     | AsDtype('bool')\n",
      "L1_HTM150            | bool                     | AsDtype('bool')\n",
      "L1_HTM50             | bool                     | AsDtype('bool')\n",
      "L1_HTM60_HTT260      | bool                     | AsDtype('bool')\n",
      "L1_HTM70             | bool                     | AsDtype('bool')\n",
      "L1_HTM80             | bool                     | AsDtype('bool')\n",
      "L1_HTM80_HTT220      | bool                     | AsDtype('bool')\n",
      "L1_HTT120            | bool                     | AsDtype('bool')\n",
      "L1_HTT160            | bool                     | AsDtype('bool')\n",
      "L1_HTT200            | bool                     | AsDtype('bool')\n",
      "L1_HTT220            | bool                     | AsDtype('bool')\n",
      "L1_HTT240            | bool                     | AsDtype('bool')\n",
      "L1_HTT255            | bool                     | AsDtype('bool')\n",
      "L1_HTT270            | bool                     | AsDtype('bool')\n",
      "L1_HTT280            | bool                     | AsDtype('bool')\n",
      "L1_HTT300            | bool                     | AsDtype('bool')\n",
      "L1_HTT320            | bool                     | AsDtype('bool')\n",
      "L1_IsoEG18er_IsoT... | bool                     | AsDtype('bool')\n",
      "L1_IsoEG20er_IsoT... | bool                     | AsDtype('bool')\n",
      "L1_IsoEG22er_IsoT... | bool                     | AsDtype('bool')\n",
      "L1_IsoEG22er_Tau2... | bool                     | AsDtype('bool')\n",
      "L1_IsolatedBunch     | bool                     | AsDtype('bool')\n",
      "L1_Jet32_DoubleMu... | bool                     | AsDtype('bool')\n",
      "L1_Jet32_Mu0_EG10... | bool                     | AsDtype('bool')\n",
      "L1_MU20_EG15         | bool                     | AsDtype('bool')\n",
      "L1_MinimumBiasHF0... | bool                     | AsDtype('bool')\n",
      "L1_MinimumBiasHF0... | bool                     | AsDtype('bool')\n",
      "L1_MinimumBiasHF0_OR | bool                     | AsDtype('bool')\n",
      "L1_MinimumBiasHF0... | bool                     | AsDtype('bool')\n",
      "L1_MinimumBiasHF1... | bool                     | AsDtype('bool')\n",
      "L1_MinimumBiasHF1... | bool                     | AsDtype('bool')\n",
      "L1_MinimumBiasHF1_OR | bool                     | AsDtype('bool')\n",
      "L1_MinimumBiasHF1... | bool                     | AsDtype('bool')\n",
      "L1_Mu0er_ETM40       | bool                     | AsDtype('bool')\n",
      "L1_Mu0er_ETM55       | bool                     | AsDtype('bool')\n",
      "L1_Mu10er_ETM30      | bool                     | AsDtype('bool')\n",
      "L1_Mu10er_ETM50      | bool                     | AsDtype('bool')\n",
      "L1_Mu12_EG10         | bool                     | AsDtype('bool')\n",
      "L1_Mu14er_ETM30      | bool                     | AsDtype('bool')\n",
      "L1_Mu16er_Tau20er    | bool                     | AsDtype('bool')\n",
      "L1_Mu16er_Tau24er    | bool                     | AsDtype('bool')\n",
      "L1_Mu18er_IsoTau26er | bool                     | AsDtype('bool')\n",
      "L1_Mu18er_Tau20er    | bool                     | AsDtype('bool')\n",
      "L1_Mu18er_Tau24er    | bool                     | AsDtype('bool')\n",
      "L1_Mu20_EG10         | bool                     | AsDtype('bool')\n",
      "L1_Mu20_EG17         | bool                     | AsDtype('bool')\n",
      "L1_Mu20_IsoEG6       | bool                     | AsDtype('bool')\n",
      "L1_Mu20er_IsoTau26er | bool                     | AsDtype('bool')\n",
      "L1_Mu22er_IsoTau26er | bool                     | AsDtype('bool')\n",
      "L1_Mu23_EG10         | bool                     | AsDtype('bool')\n",
      "L1_Mu23_IsoEG10      | bool                     | AsDtype('bool')\n",
      "L1_Mu25er_IsoTau26er | bool                     | AsDtype('bool')\n",
      "L1_Mu3_JetC120       | bool                     | AsDtype('bool')\n",
      "L1_Mu3_JetC120_dE... | bool                     | AsDtype('bool')\n",
      "L1_Mu3_JetC16        | bool                     | AsDtype('bool')\n",
      "L1_Mu3_JetC16_dEt... | bool                     | AsDtype('bool')\n",
      "L1_Mu3_JetC60        | bool                     | AsDtype('bool')\n",
      "L1_Mu3_JetC60_dEt... | bool                     | AsDtype('bool')\n",
      "L1_Mu5_EG15          | bool                     | AsDtype('bool')\n",
      "L1_Mu5_EG20          | bool                     | AsDtype('bool')\n",
      "L1_Mu5_EG23          | bool                     | AsDtype('bool')\n",
      "L1_Mu5_IsoEG18       | bool                     | AsDtype('bool')\n",
      "L1_Mu5_IsoEG20       | bool                     | AsDtype('bool')\n",
      "L1_Mu6_DoubleEG10    | bool                     | AsDtype('bool')\n",
      "L1_Mu6_DoubleEG17    | bool                     | AsDtype('bool')\n",
      "L1_Mu6_HTT200        | bool                     | AsDtype('bool')\n",
      "L1_Mu8_HTT150        | bool                     | AsDtype('bool')\n",
      "L1_NotBptxOR         | bool                     | AsDtype('bool')\n",
      "L1_QuadJetC36_Tau52  | bool                     | AsDtype('bool')\n",
      "L1_QuadJetC40        | bool                     | AsDtype('bool')\n",
      "L1_QuadJetC50        | bool                     | AsDtype('bool')\n",
      "L1_QuadJetC60        | bool                     | AsDtype('bool')\n",
      "L1_QuadMu0           | bool                     | AsDtype('bool')\n",
      "L1_SingleEG10        | bool                     | AsDtype('bool')\n",
      "L1_SingleEG15        | bool                     | AsDtype('bool')\n",
      "L1_SingleEG18        | bool                     | AsDtype('bool')\n",
      "L1_SingleEG24        | bool                     | AsDtype('bool')\n",
      "L1_SingleEG26        | bool                     | AsDtype('bool')\n",
      "L1_SingleEG28        | bool                     | AsDtype('bool')\n",
      "L1_SingleEG2_BptxAND | bool                     | AsDtype('bool')\n",
      "L1_SingleEG30        | bool                     | AsDtype('bool')\n",
      "L1_SingleEG32        | bool                     | AsDtype('bool')\n",
      "L1_SingleEG34        | bool                     | AsDtype('bool')\n",
      "L1_SingleEG36        | bool                     | AsDtype('bool')\n",
      "L1_SingleEG38        | bool                     | AsDtype('bool')\n",
      "L1_SingleEG40        | bool                     | AsDtype('bool')\n",
      "L1_SingleEG45        | bool                     | AsDtype('bool')\n",
      "L1_SingleEG5         | bool                     | AsDtype('bool')\n",
      "L1_SingleIsoEG18     | bool                     | AsDtype('bool')\n",
      "L1_SingleIsoEG18er   | bool                     | AsDtype('bool')\n",
      "L1_SingleIsoEG20     | bool                     | AsDtype('bool')\n",
      "L1_SingleIsoEG20er   | bool                     | AsDtype('bool')\n",
      "L1_SingleIsoEG22     | bool                     | AsDtype('bool')\n",
      "L1_SingleIsoEG22er   | bool                     | AsDtype('bool')\n",
      "L1_SingleIsoEG24     | bool                     | AsDtype('bool')\n",
      "L1_SingleIsoEG24er   | bool                     | AsDtype('bool')\n",
      "L1_SingleIsoEG26     | bool                     | AsDtype('bool')\n",
      "L1_SingleIsoEG26er   | bool                     | AsDtype('bool')\n",
      "L1_SingleIsoEG28     | bool                     | AsDtype('bool')\n",
      "L1_SingleIsoEG28er   | bool                     | AsDtype('bool')\n",
      "L1_SingleIsoEG30     | bool                     | AsDtype('bool')\n",
      "L1_SingleIsoEG30er   | bool                     | AsDtype('bool')\n",
      "L1_SingleIsoEG32     | bool                     | AsDtype('bool')\n",
      "L1_SingleIsoEG32er   | bool                     | AsDtype('bool')\n",
      "L1_SingleIsoEG34     | bool                     | AsDtype('bool')\n",
      "L1_SingleIsoEG34er   | bool                     | AsDtype('bool')\n",
      "L1_SingleIsoEG36     | bool                     | AsDtype('bool')\n",
      "L1_SingleJet120      | bool                     | AsDtype('bool')\n",
      "L1_SingleJet12_Bp... | bool                     | AsDtype('bool')\n",
      "L1_SingleJet140      | bool                     | AsDtype('bool')\n",
      "L1_SingleJet150      | bool                     | AsDtype('bool')\n",
      "L1_SingleJet16       | bool                     | AsDtype('bool')\n",
      "L1_SingleJet160      | bool                     | AsDtype('bool')\n",
      "L1_SingleJet170      | bool                     | AsDtype('bool')\n",
      "L1_SingleJet180      | bool                     | AsDtype('bool')\n",
      "L1_SingleJet20       | bool                     | AsDtype('bool')\n",
      "L1_SingleJet200      | bool                     | AsDtype('bool')\n",
      "L1_SingleJet35       | bool                     | AsDtype('bool')\n",
      "L1_SingleJet60       | bool                     | AsDtype('bool')\n",
      "L1_SingleJet8_Bpt... | bool                     | AsDtype('bool')\n",
      "L1_SingleJet90       | bool                     | AsDtype('bool')\n",
      "L1_SingleJetC20_N... | bool                     | AsDtype('bool')\n",
      "L1_SingleJetC20_N... | bool                     | AsDtype('bool')\n",
      "L1_SingleJetC40_N... | bool                     | AsDtype('bool')\n",
      "L1_SingleJetC40_N... | bool                     | AsDtype('bool')\n",
      "L1_SingleMu10_LowQ   | bool                     | AsDtype('bool')\n",
      "L1_SingleMu12        | bool                     | AsDtype('bool')\n",
      "L1_SingleMu14        | bool                     | AsDtype('bool')\n",
      "L1_SingleMu14er      | bool                     | AsDtype('bool')\n",
      "L1_SingleMu16        | bool                     | AsDtype('bool')\n",
      "L1_SingleMu16er      | bool                     | AsDtype('bool')\n",
      "L1_SingleMu18        | bool                     | AsDtype('bool')\n",
      "L1_SingleMu18er      | bool                     | AsDtype('bool')\n",
      "L1_SingleMu20        | bool                     | AsDtype('bool')\n",
      "L1_SingleMu20er      | bool                     | AsDtype('bool')\n",
      "L1_SingleMu22        | bool                     | AsDtype('bool')\n",
      "L1_SingleMu22er      | bool                     | AsDtype('bool')\n",
      "L1_SingleMu25        | bool                     | AsDtype('bool')\n",
      "L1_SingleMu25er      | bool                     | AsDtype('bool')\n",
      "L1_SingleMu3         | bool                     | AsDtype('bool')\n",
      "L1_SingleMu30        | bool                     | AsDtype('bool')\n",
      "L1_SingleMu30er      | bool                     | AsDtype('bool')\n",
      "L1_SingleMu5         | bool                     | AsDtype('bool')\n",
      "L1_SingleMu7         | bool                     | AsDtype('bool')\n",
      "L1_SingleMuCosmics   | bool                     | AsDtype('bool')\n",
      "L1_SingleMuOpen      | bool                     | AsDtype('bool')\n",
      "L1_SingleMuOpen_N... | bool                     | AsDtype('bool')\n",
      "L1_SingleMuOpen_N... | bool                     | AsDtype('bool')\n",
      "L1_SingleTau100er    | bool                     | AsDtype('bool')\n",
      "L1_SingleTau120er    | bool                     | AsDtype('bool')\n",
      "L1_SingleTau80er     | bool                     | AsDtype('bool')\n",
      "L1_TripleEG_14_10_8  | bool                     | AsDtype('bool')\n",
      "L1_TripleEG_18_17_8  | bool                     | AsDtype('bool')\n",
      "L1_TripleJet_84_6... | bool                     | AsDtype('bool')\n",
      "L1_TripleJet_88_7... | bool                     | AsDtype('bool')\n",
      "L1_TripleJet_92_7... | bool                     | AsDtype('bool')\n",
      "L1_TripleMu0         | bool                     | AsDtype('bool')\n",
      "L1_TripleMu_5_0_0    | bool                     | AsDtype('bool')\n",
      "L1_TripleMu_5_5_3    | bool                     | AsDtype('bool')\n",
      "L1_ZeroBias          | bool                     | AsDtype('bool')\n",
      "L1_ZeroBias_First... | bool                     | AsDtype('bool')\n",
      "L1_ZeroBias_copy     | bool                     | AsDtype('bool')\n",
      "L1_UnprefireableE... | bool                     | AsDtype('bool')\n",
      "Flag_HBHENoiseFilter | bool                     | AsDtype('bool')\n",
      "Flag_HBHENoiseIso... | bool                     | AsDtype('bool')\n",
      "Flag_CSCTightHalo... | bool                     | AsDtype('bool')\n",
      "Flag_CSCTightHalo... | bool                     | AsDtype('bool')\n",
      "Flag_CSCTightHalo... | bool                     | AsDtype('bool')\n",
      "Flag_globalTightH... | bool                     | AsDtype('bool')\n",
      "Flag_globalSuperT... | bool                     | AsDtype('bool')\n",
      "Flag_HcalStripHal... | bool                     | AsDtype('bool')\n",
      "Flag_hcalLaserEve... | bool                     | AsDtype('bool')\n",
      "Flag_EcalDeadCell... | bool                     | AsDtype('bool')\n",
      "Flag_EcalDeadCell... | bool                     | AsDtype('bool')\n",
      "Flag_ecalBadCalib... | bool                     | AsDtype('bool')\n",
      "Flag_goodVertices    | bool                     | AsDtype('bool')\n",
      "Flag_eeBadScFilter   | bool                     | AsDtype('bool')\n",
      "Flag_ecalLaserCor... | bool                     | AsDtype('bool')\n",
      "Flag_trkPOGFilters   | bool                     | AsDtype('bool')\n",
      "Flag_chargedHadro... | bool                     | AsDtype('bool')\n",
      "Flag_muonBadTrack... | bool                     | AsDtype('bool')\n",
      "Flag_BadChargedCa... | bool                     | AsDtype('bool')\n",
      "Flag_BadPFMuonFilter | bool                     | AsDtype('bool')\n",
      "Flag_BadPFMuonDzF... | bool                     | AsDtype('bool')\n",
      "Flag_hfNoisyHitsF... | bool                     | AsDtype('bool')\n",
      "Flag_BadChargedCa... | bool                     | AsDtype('bool')\n",
      "Flag_BadPFMuonSum... | bool                     | AsDtype('bool')\n",
      "Flag_trkPOG_manys... | bool                     | AsDtype('bool')\n",
      "Flag_trkPOG_tooma... | bool                     | AsDtype('bool')\n",
      "Flag_trkPOG_logEr... | bool                     | AsDtype('bool')\n",
      "Flag_METFilters      | bool                     | AsDtype('bool')\n",
      "L1Reco_step          | bool                     | AsDtype('bool')\n",
      "Flag_HBHENoiseFil... | bool                     | AsDtype('bool')\n",
      "Flag_HBHENoiseIso... | bool                     | AsDtype('bool')\n",
      "Flag_CSCTightHalo... | bool                     | AsDtype('bool')\n",
      "Flag_CSCTightHalo... | bool                     | AsDtype('bool')\n",
      "Flag_CSCTightHalo... | bool                     | AsDtype('bool')\n",
      "Flag_globalTightH... | bool                     | AsDtype('bool')\n",
      "Flag_globalSuperT... | bool                     | AsDtype('bool')\n",
      "Flag_HcalStripHal... | bool                     | AsDtype('bool')\n",
      "Flag_hcalLaserEve... | bool                     | AsDtype('bool')\n",
      "Flag_EcalDeadCell... | bool                     | AsDtype('bool')\n",
      "Flag_EcalDeadCell... | bool                     | AsDtype('bool')\n",
      "Flag_ecalBadCalib... | bool                     | AsDtype('bool')\n",
      "Flag_goodVertices... | bool                     | AsDtype('bool')\n",
      "Flag_eeBadScFilte... | bool                     | AsDtype('bool')\n",
      "Flag_ecalLaserCor... | bool                     | AsDtype('bool')\n",
      "Flag_trkPOGFilter... | bool                     | AsDtype('bool')\n",
      "Flag_chargedHadro... | bool                     | AsDtype('bool')\n",
      "Flag_muonBadTrack... | bool                     | AsDtype('bool')\n",
      "Flag_BadChargedCa... | bool                     | AsDtype('bool')\n",
      "Flag_BadPFMuonFil... | bool                     | AsDtype('bool')\n",
      "Flag_BadChargedCa... | bool                     | AsDtype('bool')\n",
      "Flag_BadPFMuonSum... | bool                     | AsDtype('bool')\n",
      "Flag_trkPOG_manys... | bool                     | AsDtype('bool')\n",
      "Flag_trkPOG_tooma... | bool                     | AsDtype('bool')\n",
      "Flag_trkPOG_logEr... | bool                     | AsDtype('bool')\n",
      "Flag_METFilters_p... | bool                     | AsDtype('bool')\n",
      "HLTriggerFirstPath   | bool                     | AsDtype('bool')\n",
      "HLT_AK8PFJet360_T... | bool                     | AsDtype('bool')\n",
      "HLT_AK8PFJet400_T... | bool                     | AsDtype('bool')\n",
      "HLT_AK8PFHT750_Tr... | bool                     | AsDtype('bool')\n",
      "HLT_AK8PFHT800_Tr... | bool                     | AsDtype('bool')\n",
      "HLT_AK8DiPFJet300... | bool                     | AsDtype('bool')\n",
      "HLT_AK8DiPFJet280... | bool                     | AsDtype('bool')\n",
      "HLT_AK8DiPFJet300... | bool                     | AsDtype('bool')\n",
      "HLT_AK8DiPFJet300... | bool                     | AsDtype('bool')\n",
      "HLT_AK8PFHT700_Tr... | bool                     | AsDtype('bool')\n",
      "HLT_AK8PFHT650_Tr... | bool                     | AsDtype('bool')\n",
      "HLT_AK8PFHT600_Tr... | bool                     | AsDtype('bool')\n",
      "HLT_AK8DiPFJet280... | bool                     | AsDtype('bool')\n",
      "HLT_AK8DiPFJet250... | bool                     | AsDtype('bool')\n",
      "HLT_AK8DiPFJet280... | bool                     | AsDtype('bool')\n",
      "HLT_AK8DiPFJet250... | bool                     | AsDtype('bool')\n",
      "HLT_CaloJet500_No... | bool                     | AsDtype('bool')\n",
      "HLT_Dimuon13_PsiP... | bool                     | AsDtype('bool')\n",
      "HLT_Dimuon13_Upsilon | bool                     | AsDtype('bool')\n",
      "HLT_Dimuon20_Jpsi    | bool                     | AsDtype('bool')\n",
      "HLT_DoubleEle24_2... | bool                     | AsDtype('bool')\n",
      "HLT_DoubleEle33_C... | bool                     | AsDtype('bool')\n",
      "HLT_DoubleEle33_C... | bool                     | AsDtype('bool')\n",
      "HLT_DoubleEle33_C... | bool                     | AsDtype('bool')\n",
      "HLT_DoubleMediumC... | bool                     | AsDtype('bool')\n",
      "HLT_DoubleTightCo... | bool                     | AsDtype('bool')\n",
      "HLT_DoubleMediumC... | bool                     | AsDtype('bool')\n",
      "HLT_DoubleTightCo... | bool                     | AsDtype('bool')\n",
      "HLT_DoubleMediumC... | bool                     | AsDtype('bool')\n",
      "HLT_DoubleTightCo... | bool                     | AsDtype('bool')\n",
      "HLT_DoubleEle37_E... | bool                     | AsDtype('bool')\n",
      "HLT_DoubleMu33NoF... | bool                     | AsDtype('bool')\n",
      "HLT_DoubleMu38NoF... | bool                     | AsDtype('bool')\n",
      "HLT_DoubleMu23NoF... | bool                     | AsDtype('bool')\n",
      "HLT_DoubleMu28NoF... | bool                     | AsDtype('bool')\n",
      "HLT_DoubleMu0        | bool                     | AsDtype('bool')\n",
      "HLT_DoubleMu4_3_Bs   | bool                     | AsDtype('bool')\n",
      "HLT_DoubleMu4_3_J... | bool                     | AsDtype('bool')\n",
      "HLT_DoubleMu4_Jps... | bool                     | AsDtype('bool')\n",
      "HLT_DoubleMu4_Low... | bool                     | AsDtype('bool')\n",
      "HLT_DoubleMu3_Trk... | bool                     | AsDtype('bool')\n",
      "HLT_DoubleMu4_Psi... | bool                     | AsDtype('bool')\n",
      "HLT_Mu7p5_L2Mu2_Jpsi | bool                     | AsDtype('bool')\n",
      "HLT_Mu7p5_L2Mu2_U... | bool                     | AsDtype('bool')\n",
      "HLT_Mu7p5_Track2_... | bool                     | AsDtype('bool')\n",
      "HLT_Mu7p5_Track3p... | bool                     | AsDtype('bool')\n",
      "HLT_Mu7p5_Track7_... | bool                     | AsDtype('bool')\n",
      "HLT_Mu7p5_Track2_... | bool                     | AsDtype('bool')\n",
      "HLT_Mu7p5_Track3p... | bool                     | AsDtype('bool')\n",
      "HLT_Mu7p5_Track7_... | bool                     | AsDtype('bool')\n",
      "HLT_Dimuon0er16_J... | bool                     | AsDtype('bool')\n",
      "HLT_Dimuon6_Jpsi_... | bool                     | AsDtype('bool')\n",
      "HLT_DoublePhoton60   | bool                     | AsDtype('bool')\n",
      "HLT_DoublePhoton85   | bool                     | AsDtype('bool')\n",
      "HLT_Ele20_eta2p1_... | bool                     | AsDtype('bool')\n",
      "HLT_Ele22_eta2p1_... | bool                     | AsDtype('bool')\n",
      "HLT_Ele22_eta2p1_... | bool                     | AsDtype('bool')\n",
      "HLT_Ele24_eta2p1_... | bool                     | AsDtype('bool')\n",
      "HLT_Ele25_WPTight... | bool                     | AsDtype('bool')\n",
      "HLT_Ele25_eta2p1_... | bool                     | AsDtype('bool')\n",
      "HLT_Ele27_WPLoose... | bool                     | AsDtype('bool')\n",
      "HLT_Ele27_WPTight... | bool                     | AsDtype('bool')\n",
      "HLT_Ele27_WPTight... | bool                     | AsDtype('bool')\n",
      "HLT_Ele27_eta2p1_... | bool                     | AsDtype('bool')\n",
      "HLT_Ele27_eta2p1_... | bool                     | AsDtype('bool')\n",
      "HLT_Ele30_WPTight... | bool                     | AsDtype('bool')\n",
      "HLT_Ele30_eta2p1_... | bool                     | AsDtype('bool')\n",
      "HLT_Ele32_WPTight... | bool                     | AsDtype('bool')\n",
      "HLT_Ele32_eta2p1_... | bool                     | AsDtype('bool')\n",
      "HLT_Ele36_eta2p1_... | bool                     | AsDtype('bool')\n",
      "HLT_Ele45_CaloIdV... | bool                     | AsDtype('bool')\n",
      "HLT_Ele105_CaloId... | bool                     | AsDtype('bool')\n",
      "HLT_HT200            | bool                     | AsDtype('bool')\n",
      "HLT_HT275            | bool                     | AsDtype('bool')\n",
      "HLT_HT325            | bool                     | AsDtype('bool')\n",
      "HLT_HT425            | bool                     | AsDtype('bool')\n",
      "HLT_HT575            | bool                     | AsDtype('bool')\n",
      "HLT_HT430to450       | bool                     | AsDtype('bool')\n",
      "HLT_HT450to470       | bool                     | AsDtype('bool')\n",
      "HLT_HT470to500       | bool                     | AsDtype('bool')\n",
      "HLT_HT500to550       | bool                     | AsDtype('bool')\n",
      "HLT_HT550to650       | bool                     | AsDtype('bool')\n",
      "HLT_HT650            | bool                     | AsDtype('bool')\n",
      "HLT_IsoMu16_eta2p... | bool                     | AsDtype('bool')\n",
      "HLT_IsoMu16_eta2p... | bool                     | AsDtype('bool')\n",
      "HLT_DoubleIsoMu17... | bool                     | AsDtype('bool')\n",
      "HLT_IsoMu19_eta2p... | bool                     | AsDtype('bool')\n",
      "HLT_IsoMu19_eta2p... | bool                     | AsDtype('bool')\n",
      "HLT_IsoMu19_eta2p... | bool                     | AsDtype('bool')\n",
      "HLT_IsoMu19_eta2p... | bool                     | AsDtype('bool')\n",
      "HLT_IsoMu19_eta2p... | bool                     | AsDtype('bool')\n",
      "HLT_IsoMu19_eta2p... | bool                     | AsDtype('bool')\n",
      "HLT_IsoMu21_eta2p... | bool                     | AsDtype('bool')\n",
      "HLT_IsoMu21_eta2p... | bool                     | AsDtype('bool')\n",
      "HLT_IsoMu20          | bool                     | AsDtype('bool')\n",
      "HLT_IsoMu21_eta2p... | bool                     | AsDtype('bool')\n",
      "HLT_IsoMu21_eta2p... | bool                     | AsDtype('bool')\n",
      "HLT_IsoMu21_eta2p... | bool                     | AsDtype('bool')\n",
      "HLT_IsoMu22          | bool                     | AsDtype('bool')\n",
      "HLT_IsoMu22_eta2p1   | bool                     | AsDtype('bool')\n",
      "HLT_IsoMu24          | bool                     | AsDtype('bool')\n",
      "HLT_IsoMu27          | bool                     | AsDtype('bool')\n",
      "HLT_IsoTkMu20        | bool                     | AsDtype('bool')\n",
      "HLT_IsoTkMu22        | bool                     | AsDtype('bool')\n",
      "HLT_IsoTkMu22_eta2p1 | bool                     | AsDtype('bool')\n",
      "HLT_IsoTkMu24        | bool                     | AsDtype('bool')\n",
      "HLT_IsoTkMu27        | bool                     | AsDtype('bool')\n",
      "HLT_JetE30_NoBPTX3BX | bool                     | AsDtype('bool')\n",
      "HLT_JetE30_NoBPTX    | bool                     | AsDtype('bool')\n",
      "HLT_JetE50_NoBPTX3BX | bool                     | AsDtype('bool')\n",
      "HLT_JetE70_NoBPTX3BX | bool                     | AsDtype('bool')\n",
      "HLT_L1SingleMu18     | bool                     | AsDtype('bool')\n",
      "HLT_L2Mu10           | bool                     | AsDtype('bool')\n",
      "HLT_L2DoubleMu23_... | bool                     | AsDtype('bool')\n",
      "HLT_L2DoubleMu28_... | bool                     | AsDtype('bool')\n",
      "HLT_L2DoubleMu38_... | bool                     | AsDtype('bool')\n",
      "HLT_L2Mu10_NoVert... | bool                     | AsDtype('bool')\n",
      "HLT_L2Mu10_NoVert... | bool                     | AsDtype('bool')\n",
      "HLT_L2Mu45_NoVert... | bool                     | AsDtype('bool')\n",
      "HLT_L2Mu40_NoVert... | bool                     | AsDtype('bool')\n",
      "HLT_LooseIsoPFTau... | bool                     | AsDtype('bool')\n",
      "HLT_LooseIsoPFTau... | bool                     | AsDtype('bool')\n",
      "HLT_LooseIsoPFTau... | bool                     | AsDtype('bool')\n",
      "HLT_LooseIsoPFTau... | bool                     | AsDtype('bool')\n",
      "HLT_PFTau120_eta2p1  | bool                     | AsDtype('bool')\n",
      "HLT_PFTau140_eta2p1  | bool                     | AsDtype('bool')\n",
      "HLT_VLooseIsoPFTa... | bool                     | AsDtype('bool')\n",
      "HLT_VLooseIsoPFTa... | bool                     | AsDtype('bool')\n",
      "HLT_Mu17_Mu8         | bool                     | AsDtype('bool')\n",
      "HLT_Mu17_Mu8_DZ      | bool                     | AsDtype('bool')\n",
      "HLT_Mu17_Mu8_Same... | bool                     | AsDtype('bool')\n",
      "HLT_Mu17_Mu8_Same... | bool                     | AsDtype('bool')\n",
      "HLT_Mu20_Mu10        | bool                     | AsDtype('bool')\n",
      "HLT_Mu20_Mu10_DZ     | bool                     | AsDtype('bool')\n",
      "HLT_Mu20_Mu10_Sam... | bool                     | AsDtype('bool')\n",
      "HLT_Mu20_Mu10_Sam... | bool                     | AsDtype('bool')\n",
      "HLT_Mu17_TkMu8_DZ    | bool                     | AsDtype('bool')\n",
      "HLT_Mu17_TrkIsoVV... | bool                     | AsDtype('bool')\n",
      "HLT_Mu17_TrkIsoVV... | bool                     | AsDtype('bool')\n",
      "HLT_Mu17_TrkIsoVV... | bool                     | AsDtype('bool')\n",
      "HLT_Mu17_TrkIsoVV... | bool                     | AsDtype('bool')\n",
      "HLT_Mu25_TkMu0_dE... | bool                     | AsDtype('bool')\n",
      "HLT_Mu27_TkMu8       | bool                     | AsDtype('bool')\n",
      "HLT_Mu30_TkMu11      | bool                     | AsDtype('bool')\n",
      "HLT_Mu30_eta2p1_P... | bool                     | AsDtype('bool')\n",
      "HLT_Mu40_TkMu11      | bool                     | AsDtype('bool')\n",
      "HLT_Mu40_eta2p1_P... | bool                     | AsDtype('bool')\n",
      "HLT_Mu20             | bool                     | AsDtype('bool')\n",
      "HLT_TkMu17           | bool                     | AsDtype('bool')\n",
      "HLT_TkMu17_TrkIso... | bool                     | AsDtype('bool')\n",
      "HLT_TkMu17_TrkIso... | bool                     | AsDtype('bool')\n",
      "HLT_TkMu20           | bool                     | AsDtype('bool')\n",
      "HLT_Mu24_eta2p1      | bool                     | AsDtype('bool')\n",
      "HLT_TkMu24_eta2p1    | bool                     | AsDtype('bool')\n",
      "HLT_Mu27             | bool                     | AsDtype('bool')\n",
      "HLT_TkMu27           | bool                     | AsDtype('bool')\n",
      "HLT_Mu45_eta2p1      | bool                     | AsDtype('bool')\n",
      "HLT_Mu50             | bool                     | AsDtype('bool')\n",
      "HLT_TkMu50           | bool                     | AsDtype('bool')\n",
      "HLT_Mu38NoFilters... | bool                     | AsDtype('bool')\n",
      "HLT_Mu42NoFilters... | bool                     | AsDtype('bool')\n",
      "HLT_Mu28NoFilters... | bool                     | AsDtype('bool')\n",
      "HLT_Mu33NoFilters... | bool                     | AsDtype('bool')\n",
      "HLT_Mu23NoFilters... | bool                     | AsDtype('bool')\n",
      "HLT_DoubleMu18NoF... | bool                     | AsDtype('bool')\n",
      "HLT_Mu28NoFilters... | bool                     | AsDtype('bool')\n",
      "HLT_Mu38NoFilters... | bool                     | AsDtype('bool')\n",
      "HLT_Mu38NoFilters... | bool                     | AsDtype('bool')\n",
      "HLT_Mu38NoFilters... | bool                     | AsDtype('bool')\n",
      "HLT_Mu28NoFilters... | bool                     | AsDtype('bool')\n",
      "HLT_PFHT300_PFMET110 | bool                     | AsDtype('bool')\n",
      "HLT_PFHT550_4JetPt50 | bool                     | AsDtype('bool')\n",
      "HLT_PFHT650_4JetPt50 | bool                     | AsDtype('bool')\n",
      "HLT_PFHT750_4JetPt70 | bool                     | AsDtype('bool')\n",
      "HLT_PFHT750_4JetPt80 | bool                     | AsDtype('bool')\n",
      "HLT_PFHT800_4JetPt50 | bool                     | AsDtype('bool')\n",
      "HLT_PFHT850_4JetPt50 | bool                     | AsDtype('bool')\n",
      "HLT_PFJet15_NoCal... | bool                     | AsDtype('bool')\n",
      "HLT_PFJet25_NoCal... | bool                     | AsDtype('bool')\n",
      "HLT_DiPFJet15_NoC... | bool                     | AsDtype('bool')\n",
      "HLT_DiPFJet25_NoC... | bool                     | AsDtype('bool')\n",
      "HLT_DiPFJet15_FBE... | bool                     | AsDtype('bool')\n",
      "HLT_DiPFJet25_FBE... | bool                     | AsDtype('bool')\n",
      "HLT_DiPFJetAve15_... | bool                     | AsDtype('bool')\n",
      "HLT_DiPFJetAve25_... | bool                     | AsDtype('bool')\n",
      "HLT_DiPFJetAve35_... | bool                     | AsDtype('bool')\n",
      "HLT_AK8PFJet40       | bool                     | AsDtype('bool')\n",
      "HLT_AK8PFJet60       | bool                     | AsDtype('bool')\n",
      "HLT_AK8PFJet80       | bool                     | AsDtype('bool')\n",
      "HLT_AK8PFJet140      | bool                     | AsDtype('bool')\n",
      "HLT_AK8PFJet200      | bool                     | AsDtype('bool')\n",
      "HLT_AK8PFJet260      | bool                     | AsDtype('bool')\n",
      "HLT_AK8PFJet320      | bool                     | AsDtype('bool')\n",
      "HLT_AK8PFJet400      | bool                     | AsDtype('bool')\n",
      "HLT_AK8PFJet450      | bool                     | AsDtype('bool')\n",
      "HLT_AK8PFJet500      | bool                     | AsDtype('bool')\n",
      "HLT_PFJet40          | bool                     | AsDtype('bool')\n",
      "HLT_PFJet60          | bool                     | AsDtype('bool')\n",
      "HLT_PFJet80          | bool                     | AsDtype('bool')\n",
      "HLT_PFJet140         | bool                     | AsDtype('bool')\n",
      "HLT_PFJet200         | bool                     | AsDtype('bool')\n",
      "HLT_PFJet260         | bool                     | AsDtype('bool')\n",
      "HLT_PFJet320         | bool                     | AsDtype('bool')\n",
      "HLT_PFJet400         | bool                     | AsDtype('bool')\n",
      "HLT_PFJet450         | bool                     | AsDtype('bool')\n",
      "HLT_PFJet500         | bool                     | AsDtype('bool')\n",
      "HLT_DiPFJetAve40     | bool                     | AsDtype('bool')\n",
      "HLT_DiPFJetAve60     | bool                     | AsDtype('bool')\n",
      "HLT_DiPFJetAve80     | bool                     | AsDtype('bool')\n",
      "HLT_DiPFJetAve140    | bool                     | AsDtype('bool')\n",
      "HLT_DiPFJetAve200    | bool                     | AsDtype('bool')\n",
      "HLT_DiPFJetAve260    | bool                     | AsDtype('bool')\n",
      "HLT_DiPFJetAve320    | bool                     | AsDtype('bool')\n",
      "HLT_DiPFJetAve400    | bool                     | AsDtype('bool')\n",
      "HLT_DiPFJetAve500    | bool                     | AsDtype('bool')\n",
      "HLT_DiPFJetAve60_... | bool                     | AsDtype('bool')\n",
      "HLT_DiPFJetAve80_... | bool                     | AsDtype('bool')\n",
      "HLT_DiPFJetAve100... | bool                     | AsDtype('bool')\n",
      "HLT_DiPFJetAve160... | bool                     | AsDtype('bool')\n",
      "HLT_DiPFJetAve220... | bool                     | AsDtype('bool')\n",
      "HLT_DiPFJetAve300... | bool                     | AsDtype('bool')\n",
      "HLT_DiPFJet40_DEt... | bool                     | AsDtype('bool')\n",
      "HLT_DiPFJet40_DEt... | bool                     | AsDtype('bool')\n",
      "HLT_DiCentralPFJe... | bool                     | AsDtype('bool')\n",
      "HLT_SingleCentral... | bool                     | AsDtype('bool')\n",
      "HLT_DiCentralPFJe... | bool                     | AsDtype('bool')\n",
      "HLT_DiCentralPFJe... | bool                     | AsDtype('bool')\n",
      "HLT_DiCentralPFJe... | bool                     | AsDtype('bool')\n",
      "HLT_PFHT125          | bool                     | AsDtype('bool')\n",
      "HLT_PFHT200          | bool                     | AsDtype('bool')\n",
      "HLT_PFHT250          | bool                     | AsDtype('bool')\n",
      "HLT_PFHT300          | bool                     | AsDtype('bool')\n",
      "HLT_PFHT350          | bool                     | AsDtype('bool')\n",
      "HLT_PFHT400          | bool                     | AsDtype('bool')\n",
      "HLT_PFHT475          | bool                     | AsDtype('bool')\n",
      "HLT_PFHT600          | bool                     | AsDtype('bool')\n",
      "HLT_PFHT650          | bool                     | AsDtype('bool')\n",
      "HLT_PFHT900          | bool                     | AsDtype('bool')\n",
      "HLT_PFHT200_PFAlp... | bool                     | AsDtype('bool')\n",
      "HLT_PFHT200_DiPFJ... | bool                     | AsDtype('bool')\n",
      "HLT_PFHT250_DiPFJ... | bool                     | AsDtype('bool')\n",
      "HLT_PFHT300_DiPFJ... | bool                     | AsDtype('bool')\n",
      "HLT_PFHT350_DiPFJ... | bool                     | AsDtype('bool')\n",
      "HLT_PFHT400_DiPFJ... | bool                     | AsDtype('bool')\n",
      "HLT_MET60_IsoTrk3... | bool                     | AsDtype('bool')\n",
      "HLT_MET75_IsoTrk50   | bool                     | AsDtype('bool')\n",
      "HLT_MET90_IsoTrk50   | bool                     | AsDtype('bool')\n",
      "HLT_PFMET170_NotC... | bool                     | AsDtype('bool')\n",
      "HLT_PFMET170_HBHE... | bool                     | AsDtype('bool')\n",
      "HLT_PFMET170_Beam... | bool                     | AsDtype('bool')\n",
      "HLT_PFMET170_HBHE... | bool                     | AsDtype('bool')\n",
      "HLT_PFMETTypeOne1... | bool                     | AsDtype('bool')\n",
      "HLT_PFMET110_PFMH... | bool                     | AsDtype('bool')\n",
      "HLT_PFMET120_PFMH... | bool                     | AsDtype('bool')\n",
      "HLT_CaloMHTNoPU90... | bool                     | AsDtype('bool')\n",
      "HLT_CaloMHTNoPU90... | bool                     | AsDtype('bool')\n",
      "HLT_QuadPFJet_BTa... | bool                     | AsDtype('bool')\n",
      "HLT_QuadPFJet_BTa... | bool                     | AsDtype('bool')\n",
      "HLT_QuadPFJet_BTa... | bool                     | AsDtype('bool')\n",
      "HLT_QuadPFJet_BTa... | bool                     | AsDtype('bool')\n",
      "HLT_QuadPFJet_VBF    | bool                     | AsDtype('bool')\n",
      "HLT_L1_TripleJet_VBF | bool                     | AsDtype('bool')\n",
      "HLT_QuadJet45_Tri... | bool                     | AsDtype('bool')\n",
      "HLT_QuadJet45_Dou... | bool                     | AsDtype('bool')\n",
      "HLT_DoubleJet90_D... | bool                     | AsDtype('bool')\n",
      "HLT_DoubleJet90_D... | bool                     | AsDtype('bool')\n",
      "HLT_DoubleJetsC10... | bool                     | AsDtype('bool')\n",
      "HLT_DoubleJetsC10... | bool                     | AsDtype('bool')\n",
      "HLT_DoubleJetsC11... | bool                     | AsDtype('bool')\n",
      "HLT_DoubleJetsC11... | bool                     | AsDtype('bool')\n",
      "HLT_DoubleJetsC10... | bool                     | AsDtype('bool')\n",
      "HLT_DoubleJetsC10... | bool                     | AsDtype('bool')\n",
      "HLT_DoubleJetsC10... | bool                     | AsDtype('bool')\n",
      "HLT_DoubleJetsC10... | bool                     | AsDtype('bool')\n",
      "HLT_Photon135_PFM... | bool                     | AsDtype('bool')\n",
      "HLT_Photon22_R9Id... | bool                     | AsDtype('bool')\n",
      "HLT_Photon22_R9Id... | bool                     | AsDtype('bool')\n",
      "HLT_Photon250_NoHE   | bool                     | AsDtype('bool')\n",
      "HLT_Photon300_NoHE   | bool                     | AsDtype('bool')\n",
      "HLT_Photon26_R9Id... | bool                     | AsDtype('bool')\n",
      "HLT_Photon36_R9Id... | bool                     | AsDtype('bool')\n",
      "HLT_Photon36_R9Id... | bool                     | AsDtype('bool')\n",
      "HLT_Photon36_R9Id... | bool                     | AsDtype('bool')\n",
      "HLT_Photon50_R9Id... | bool                     | AsDtype('bool')\n",
      "HLT_Photon50_R9Id... | bool                     | AsDtype('bool')\n",
      "HLT_Photon75_R9Id... | bool                     | AsDtype('bool')\n",
      "HLT_Photon75_R9Id... | bool                     | AsDtype('bool')\n",
      "HLT_Photon90_R9Id... | bool                     | AsDtype('bool')\n",
      "HLT_Photon90_R9Id... | bool                     | AsDtype('bool')\n",
      "HLT_Photon120_R9I... | bool                     | AsDtype('bool')\n",
      "HLT_Photon120_R9I... | bool                     | AsDtype('bool')\n",
      "HLT_Mu8_TrkIsoVVL    | bool                     | AsDtype('bool')\n",
      "HLT_Mu17_TrkIsoVVL   | bool                     | AsDtype('bool')\n",
      "HLT_Ele8_CaloIdL_... | bool                     | AsDtype('bool')\n",
      "HLT_Ele12_CaloIdL... | bool                     | AsDtype('bool')\n",
      "HLT_Ele17_CaloIdL... | bool                     | AsDtype('bool')\n",
      "HLT_Ele23_CaloIdL... | bool                     | AsDtype('bool')\n",
      "HLT_BTagMu_DiJet2... | bool                     | AsDtype('bool')\n",
      "HLT_BTagMu_DiJet4... | bool                     | AsDtype('bool')\n",
      "HLT_BTagMu_DiJet7... | bool                     | AsDtype('bool')\n",
      "HLT_BTagMu_DiJet1... | bool                     | AsDtype('bool')\n",
      "HLT_BTagMu_DiJet1... | bool                     | AsDtype('bool')\n",
      "HLT_BTagMu_Jet300... | bool                     | AsDtype('bool')\n",
      "HLT_BTagMu_AK8Jet... | bool                     | AsDtype('bool')\n",
      "HLT_Ele23_Ele12_C... | bool                     | AsDtype('bool')\n",
      "HLT_Ele23_Ele12_C... | bool                     | AsDtype('bool')\n",
      "HLT_Ele17_Ele12_C... | bool                     | AsDtype('bool')\n",
      "HLT_Ele16_Ele12_E... | bool                     | AsDtype('bool')\n",
      "HLT_Mu8_TrkIsoVVL... | bool                     | AsDtype('bool')\n",
      "HLT_Mu8_TrkIsoVVL... | bool                     | AsDtype('bool')\n",
      "HLT_Mu12_TrkIsoVV... | bool                     | AsDtype('bool')\n",
      "HLT_Mu12_TrkIsoVV... | bool                     | AsDtype('bool')\n",
      "HLT_Mu17_TrkIsoVV... | bool                     | AsDtype('bool')\n",
      "HLT_Mu23_TrkIsoVV... | bool                     | AsDtype('bool')\n",
      "HLT_Mu23_TrkIsoVV... | bool                     | AsDtype('bool')\n",
      "HLT_Mu23_TrkIsoVV... | bool                     | AsDtype('bool')\n",
      "HLT_Mu33_Ele33_Ca... | bool                     | AsDtype('bool')\n",
      "HLT_Mu37_Ele27_Ca... | bool                     | AsDtype('bool')\n",
      "HLT_Mu27_Ele37_Ca... | bool                     | AsDtype('bool')\n",
      "HLT_Mu8_DiEle12_C... | bool                     | AsDtype('bool')\n",
      "HLT_Mu12_Photon25... | bool                     | AsDtype('bool')\n",
      "HLT_Mu12_Photon25... | bool                     | AsDtype('bool')\n",
      "HLT_Mu12_Photon25... | bool                     | AsDtype('bool')\n",
      "HLT_Mu17_Photon30... | bool                     | AsDtype('bool')\n",
      "HLT_Mu17_Photon35... | bool                     | AsDtype('bool')\n",
      "HLT_DiMu9_Ele9_Ca... | bool                     | AsDtype('bool')\n",
      "HLT_TripleMu_5_3_... | bool                     | AsDtype('bool')\n",
      "HLT_TripleMu_12_10_5 | bool                     | AsDtype('bool')\n",
      "HLT_Mu6_PFHT200_P... | bool                     | AsDtype('bool')\n",
      "HLT_Ele17_Ele12_C... | bool                     | AsDtype('bool')\n",
      "HLT_Ele23_Ele12_C... | bool                     | AsDtype('bool')\n",
      "HLT_Ele12_CaloIdL... | bool                     | AsDtype('bool')\n",
      "HLT_Ele17_CaloIdL... | bool                     | AsDtype('bool')\n",
      "HLT_Ele17_CaloIdL... | bool                     | AsDtype('bool')\n",
      "HLT_Ele23_CaloIdL... | bool                     | AsDtype('bool')\n",
      "HLT_PFHT650_WideJ... | bool                     | AsDtype('bool')\n",
      "HLT_PFHT650_WideJ... | bool                     | AsDtype('bool')\n",
      "HLT_Photon22         | bool                     | AsDtype('bool')\n",
      "HLT_Photon30         | bool                     | AsDtype('bool')\n",
      "HLT_Photon36         | bool                     | AsDtype('bool')\n",
      "HLT_Photon50         | bool                     | AsDtype('bool')\n",
      "HLT_Photon75         | bool                     | AsDtype('bool')\n",
      "HLT_Photon90         | bool                     | AsDtype('bool')\n",
      "HLT_Photon120        | bool                     | AsDtype('bool')\n",
      "HLT_Photon175        | bool                     | AsDtype('bool')\n",
      "HLT_Photon165_HE10   | bool                     | AsDtype('bool')\n",
      "HLT_Photon22_R9Id... | bool                     | AsDtype('bool')\n",
      "HLT_Photon30_R9Id... | bool                     | AsDtype('bool')\n",
      "HLT_Photon36_R9Id... | bool                     | AsDtype('bool')\n",
      "HLT_Photon50_R9Id... | bool                     | AsDtype('bool')\n",
      "HLT_Photon75_R9Id... | bool                     | AsDtype('bool')\n",
      "HLT_Photon90_R9Id... | bool                     | AsDtype('bool')\n",
      "HLT_Photon120_R9I... | bool                     | AsDtype('bool')\n",
      "HLT_Photon165_R9I... | bool                     | AsDtype('bool')\n",
      "HLT_Diphoton30_18... | bool                     | AsDtype('bool')\n",
      "HLT_Diphoton30_18... | bool                     | AsDtype('bool')\n",
      "HLT_Diphoton30PV_... | bool                     | AsDtype('bool')\n",
      "HLT_Diphoton30_18... | bool                     | AsDtype('bool')\n",
      "HLT_Diphoton30EB_... | bool                     | AsDtype('bool')\n",
      "HLT_Dimuon0_Jpsi_... | bool                     | AsDtype('bool')\n",
      "HLT_Dimuon0_Upsil... | bool                     | AsDtype('bool')\n",
      "HLT_QuadMuon0_Dim... | bool                     | AsDtype('bool')\n",
      "HLT_QuadMuon0_Dim... | bool                     | AsDtype('bool')\n",
      "HLT_Rsq0p25          | bool                     | AsDtype('bool')\n",
      "HLT_Rsq0p30          | bool                     | AsDtype('bool')\n",
      "HLT_RsqMR270_Rsq0... | bool                     | AsDtype('bool')\n",
      "HLT_RsqMR270_Rsq0... | bool                     | AsDtype('bool')\n",
      "HLT_Rsq0p02_MR400... | bool                     | AsDtype('bool')\n",
      "HLT_Rsq0p02_MR450... | bool                     | AsDtype('bool')\n",
      "HLT_Rsq0p02_MR500... | bool                     | AsDtype('bool')\n",
      "HLT_Rsq0p02_MR550... | bool                     | AsDtype('bool')\n",
      "HLT_HT250_Displac... | bool                     | AsDtype('bool')\n",
      "HLT_HT350_Displac... | bool                     | AsDtype('bool')\n",
      "HLT_HT350_Displac... | bool                     | AsDtype('bool')\n",
      "HLT_HT350_Displac... | bool                     | AsDtype('bool')\n",
      "HLT_HT350_Displac... | bool                     | AsDtype('bool')\n",
      "HLT_HT550_Displac... | bool                     | AsDtype('bool')\n",
      "HLT_HT650_Displac... | bool                     | AsDtype('bool')\n",
      "HLT_HT750_Displac... | bool                     | AsDtype('bool')\n",
      "HLT_VBF_Displaced... | bool                     | AsDtype('bool')\n",
      "HLT_VBF_Displaced... | bool                     | AsDtype('bool')\n",
      "HLT_VBF_Displaced... | bool                     | AsDtype('bool')\n",
      "HLT_VBF_Displaced... | bool                     | AsDtype('bool')\n",
      "HLT_VBF_Displaced... | bool                     | AsDtype('bool')\n",
      "HLT_VBF_Displaced... | bool                     | AsDtype('bool')\n",
      "HLT_VBF_Displaced... | bool                     | AsDtype('bool')\n",
      "HLT_VBF_Displaced... | bool                     | AsDtype('bool')\n",
      "HLT_PFMETNoMu110_... | bool                     | AsDtype('bool')\n",
      "HLT_PFMETNoMu120_... | bool                     | AsDtype('bool')\n",
      "HLT_MonoCentralPF... | bool                     | AsDtype('bool')\n",
      "HLT_MonoCentralPF... | bool                     | AsDtype('bool')\n",
      "HLT_Ele27_eta2p1_... | bool                     | AsDtype('bool')\n",
      "HLT_DoubleMu8_Mas... | bool                     | AsDtype('bool')\n",
      "HLT_Mu8_Ele8_Calo... | bool                     | AsDtype('bool')\n",
      "HLT_DoubleEle8_Ca... | bool                     | AsDtype('bool')\n",
      "HLT_Mu10_CentralP... | bool                     | AsDtype('bool')\n",
      "HLT_DoubleMu3_PFM... | bool                     | AsDtype('bool')\n",
      "HLT_Ele10_CaloIdM... | bool                     | AsDtype('bool')\n",
      "HLT_Ele15_IsoVVVL... | bool                     | AsDtype('bool')\n",
      "HLT_Ele15_IsoVVVL... | bool                     | AsDtype('bool')\n",
      "HLT_Ele15_IsoVVVL... | bool                     | AsDtype('bool')\n",
      "HLT_Ele15_IsoVVVL... | bool                     | AsDtype('bool')\n",
      "HLT_Ele50_IsoVVVL... | bool                     | AsDtype('bool')\n",
      "HLT_Mu8_TrkIsoVVL... | bool                     | AsDtype('bool')\n",
      "HLT_Mu10_TrkIsoVV... | bool                     | AsDtype('bool')\n",
      "HLT_Mu15_IsoVVVL_... | bool                     | AsDtype('bool')\n",
      "HLT_Mu15_IsoVVVL_... | bool                     | AsDtype('bool')\n",
      "HLT_Mu15_IsoVVVL_... | bool                     | AsDtype('bool')\n",
      "HLT_Mu15_IsoVVVL_... | bool                     | AsDtype('bool')\n",
      "HLT_Mu50_IsoVVVL_... | bool                     | AsDtype('bool')\n",
      "HLT_Dimuon16_Jpsi    | bool                     | AsDtype('bool')\n",
      "HLT_Dimuon8_PsiPr... | bool                     | AsDtype('bool')\n",
      "HLT_Dimuon8_Upsil... | bool                     | AsDtype('bool')\n",
      "HLT_Dimuon0_Phi_B... | bool                     | AsDtype('bool')\n",
      "HLT_TrkMu15_Doubl... | bool                     | AsDtype('bool')\n",
      "HLT_TrkMu17_Doubl... | bool                     | AsDtype('bool')\n",
      "HLT_Mu8              | bool                     | AsDtype('bool')\n",
      "HLT_Mu17             | bool                     | AsDtype('bool')\n",
      "HLT_Mu3_PFJet40      | bool                     | AsDtype('bool')\n",
      "HLT_Ele8_CaloIdM_... | bool                     | AsDtype('bool')\n",
      "HLT_Ele12_CaloIdM... | bool                     | AsDtype('bool')\n",
      "HLT_Ele17_CaloIdM... | bool                     | AsDtype('bool')\n",
      "HLT_Ele23_CaloIdM... | bool                     | AsDtype('bool')\n",
      "HLT_Ele50_CaloIdV... | bool                     | AsDtype('bool')\n",
      "HLT_PFHT400_SixJe... | bool                     | AsDtype('bool')\n",
      "HLT_PFHT450_SixJe... | bool                     | AsDtype('bool')\n",
      "HLT_PFHT400_SixJet30 | bool                     | AsDtype('bool')\n",
      "HLT_PFHT450_SixJet40 | bool                     | AsDtype('bool')\n",
      "HLT_Ele115_CaloId... | bool                     | AsDtype('bool')\n",
      "HLT_Mu55             | bool                     | AsDtype('bool')\n",
      "HLT_Photon42_R9Id... | bool                     | AsDtype('bool')\n",
      "HLT_Photon90_Calo... | bool                     | AsDtype('bool')\n",
      "HLT_FullTracks_Mu... | bool                     | AsDtype('bool')\n",
      "HLT_FullTracks_Mu... | bool                     | AsDtype('bool')\n",
      "HLT_FullTracks_Mu... | bool                     | AsDtype('bool')\n",
      "HLT_FullTracks_Mu... | bool                     | AsDtype('bool')\n",
      "HLT_ECALHT800        | bool                     | AsDtype('bool')\n",
      "HLT_DiSC30_18_EIs... | bool                     | AsDtype('bool')\n",
      "HLT_MET200           | bool                     | AsDtype('bool')\n",
      "HLT_Ele27_HighEta... | bool                     | AsDtype('bool')\n",
      "HLT_L1FatEvents      | bool                     | AsDtype('bool')\n",
      "HLT_Physics          | bool                     | AsDtype('bool')\n",
      "HLT_L1FatEvents_p... | bool                     | AsDtype('bool')\n",
      "HLT_L1FatEvents_p... | bool                     | AsDtype('bool')\n",
      "HLT_L1FatEvents_p... | bool                     | AsDtype('bool')\n",
      "HLT_L1FatEvents_p... | bool                     | AsDtype('bool')\n",
      "HLT_Random           | bool                     | AsDtype('bool')\n",
      "HLT_ZeroBias         | bool                     | AsDtype('bool')\n",
      "HLT_AK4CaloJet30     | bool                     | AsDtype('bool')\n",
      "HLT_AK4CaloJet40     | bool                     | AsDtype('bool')\n",
      "HLT_AK4CaloJet50     | bool                     | AsDtype('bool')\n",
      "HLT_AK4CaloJet80     | bool                     | AsDtype('bool')\n",
      "HLT_AK4CaloJet100    | bool                     | AsDtype('bool')\n",
      "HLT_AK4PFJet30       | bool                     | AsDtype('bool')\n",
      "HLT_AK4PFJet50       | bool                     | AsDtype('bool')\n",
      "HLT_AK4PFJet80       | bool                     | AsDtype('bool')\n",
      "HLT_AK4PFJet100      | bool                     | AsDtype('bool')\n",
      "HLT_HISinglePhoton10 | bool                     | AsDtype('bool')\n",
      "HLT_HISinglePhoton15 | bool                     | AsDtype('bool')\n",
      "HLT_HISinglePhoton20 | bool                     | AsDtype('bool')\n",
      "HLT_HISinglePhoton40 | bool                     | AsDtype('bool')\n",
      "HLT_HISinglePhoton60 | bool                     | AsDtype('bool')\n",
      "HLT_EcalCalibration  | bool                     | AsDtype('bool')\n",
      "HLT_HcalCalibration  | bool                     | AsDtype('bool')\n",
      "HLT_GlobalRunHPDN... | bool                     | AsDtype('bool')\n",
      "HLT_L1MinimumBias... | bool                     | AsDtype('bool')\n",
      "HLT_L1MinimumBias... | bool                     | AsDtype('bool')\n",
      "HLT_HcalNZS          | bool                     | AsDtype('bool')\n",
      "HLT_HcalPhiSym       | bool                     | AsDtype('bool')\n",
      "HLT_HcalIsolatedb... | bool                     | AsDtype('bool')\n",
      "HLT_ZeroBias_Firs... | bool                     | AsDtype('bool')\n",
      "HLT_ZeroBias_Firs... | bool                     | AsDtype('bool')\n",
      "HLT_ZeroBias_Isol... | bool                     | AsDtype('bool')\n",
      "HLT_ZeroBias_Firs... | bool                     | AsDtype('bool')\n",
      "HLT_ZeroBias_Firs... | bool                     | AsDtype('bool')\n",
      "HLT_Photon500        | bool                     | AsDtype('bool')\n",
      "HLT_Photon600        | bool                     | AsDtype('bool')\n",
      "HLT_Mu300            | bool                     | AsDtype('bool')\n",
      "HLT_Mu350            | bool                     | AsDtype('bool')\n",
      "HLT_MET250           | bool                     | AsDtype('bool')\n",
      "HLT_MET300           | bool                     | AsDtype('bool')\n",
      "HLT_MET600           | bool                     | AsDtype('bool')\n",
      "HLT_MET700           | bool                     | AsDtype('bool')\n",
      "HLT_PFMET300         | bool                     | AsDtype('bool')\n",
      "HLT_PFMET400         | bool                     | AsDtype('bool')\n",
      "HLT_PFMET500         | bool                     | AsDtype('bool')\n",
      "HLT_PFMET600         | bool                     | AsDtype('bool')\n",
      "HLT_Ele250_CaloId... | bool                     | AsDtype('bool')\n",
      "HLT_Ele300_CaloId... | bool                     | AsDtype('bool')\n",
      "HLT_HT2000           | bool                     | AsDtype('bool')\n",
      "HLT_HT2500           | bool                     | AsDtype('bool')\n",
      "HLT_IsoTrackHE       | bool                     | AsDtype('bool')\n",
      "HLT_IsoTrackHB       | bool                     | AsDtype('bool')\n",
      "HLTriggerFinalPath   | bool                     | AsDtype('bool')\n"
     ]
    }
   ],
   "source": [
    "events = infile['Events']\n",
    "events.show()"
   ]
  },
  {
   "cell_type": "markdown",
   "id": "938e1a3c-8b3b-48a3-b7e6-20f40c6308d9",
   "metadata": {
    "id": "938e1a3c-8b3b-48a3-b7e6-20f40c6308d9"
   },
   "source": [
    "You can also examine the key-value combinations:"
   ]
  },
  {
   "cell_type": "code",
   "execution_count": null,
   "id": "2049d204",
   "metadata": {
    "id": "2049d204",
    "scrolled": true
   },
   "outputs": [],
   "source": [
    "events.keys()"
   ]
  },
  {
   "cell_type": "code",
   "execution_count": null,
   "id": "cfb0d085",
   "metadata": {
    "id": "cfb0d085",
    "scrolled": true
   },
   "outputs": [],
   "source": [
    "events.values()"
   ]
  },
  {
   "cell_type": "markdown",
   "id": "64627fd4",
   "metadata": {
    "id": "64627fd4"
   },
   "source": [
    "What does all this mean? Recall that thankfully in the [dataset record](https://opendata.cern.ch/record/30555) there is a list of file variables (with explanations) under `Dataset semantics`. The link is [here](https://opendata.cern.ch/eos/opendata/cms/dataset-semantics/NanoAOD/30555/DoubleMuon_doc.html)."
   ]
  },
  {
   "cell_type": "markdown",
   "id": "dbe53ad2-07a0-40d9-b00f-3f9c282b36e0",
   "metadata": {
    "id": "dbe53ad2-07a0-40d9-b00f-3f9c282b36e0"
   },
   "source": [
    "![muon stuff](https://github.com/cms-dpoa/cms-acp-tutorial/blob/main/imgs/muon-variables.png?raw=1)"
   ]
  },
  {
   "cell_type": "markdown",
   "id": "895f3630-5d43-44b7-933c-ee2d58914f0e",
   "metadata": {
    "id": "895f3630-5d43-44b7-933c-ee2d58914f0e"
   },
   "source": [
    "We can filter on the variables and load a selection of them into a data frame:"
   ]
  },
  {
   "cell_type": "code",
   "execution_count": 13,
   "id": "9f1b0960-cd4b-4544-ac0b-26e6cfb7d83e",
   "metadata": {
    "colab": {
     "base_uri": "https://localhost:8080/",
     "height": 590
    },
    "id": "9f1b0960-cd4b-4544-ac0b-26e6cfb7d83e",
    "outputId": "39a1480c-e780-4d45-fd17-e80bb0bc07d8"
   },
   "outputs": [
    {
     "data": {
      "text/html": [
       "<pre>[{nMuon: 2, Muon_eta: [0.457, -0.934], Muon_mass: [0.106, ...], ...},\n",
       " {nMuon: 2, Muon_eta: [-0.945, 0.876], Muon_mass: [0.106, ...], ...},\n",
       " {nMuon: 2, Muon_eta: [0.0867, 0.431], Muon_mass: [0.106, ...], ...},\n",
       " {nMuon: 3, Muon_eta: [-1.26, -1.27, 0.372], Muon_mass: [...], ...},\n",
       " {nMuon: 2, Muon_eta: [-1.17, -2.44], Muon_mass: [0.106, ...], ...},\n",
       " {nMuon: 2, Muon_eta: [-1.04, -0.0355], Muon_mass: [...], Muon_phi: [...], ...},\n",
       " {nMuon: 2, Muon_eta: [-0.613, -0.662], Muon_mass: [...], Muon_phi: [...], ...},\n",
       " {nMuon: 2, Muon_eta: [1.29, -1.57], Muon_mass: [0.106, ...], ...},\n",
       " {nMuon: 2, Muon_eta: [1.08, 0.555], Muon_mass: [0.106, ...], ...},\n",
       " {nMuon: 2, Muon_eta: [-1.58, -2.16], Muon_mass: [0.106, ...], ...},\n",
       " ...,\n",
       " {nMuon: 2, Muon_eta: [-1.86, 1.61], Muon_mass: [0.106, ...], ...},\n",
       " {nMuon: 5, Muon_eta: [0.263, 1.22, ..., 1.17], Muon_mass: [...], ...},\n",
       " {nMuon: 2, Muon_eta: [0.147, -0.737], Muon_mass: [0.106, ...], ...},\n",
       " {nMuon: 2, Muon_eta: [-1.78, -0.814], Muon_mass: [0.106, ...], ...},\n",
       " {nMuon: 7, Muon_eta: [-0.138, ..., 0.702], Muon_mass: [...], ...},\n",
       " {nMuon: 4, Muon_eta: [-1.7, 1.86, ..., -1.69], Muon_mass: [...], ...},\n",
       " {nMuon: 3, Muon_eta: [-1.57, -2.05, 0.235], Muon_mass: [...], ...},\n",
       " {nMuon: 1, Muon_eta: [1.72], Muon_mass: [0.106], Muon_phi: [-2.08], ...},\n",
       " {nMuon: 2, Muon_eta: [1.34, 1.47], Muon_mass: [0.106, ...], ...}]\n",
       "--------------------------------------------------------------------------------\n",
       "backend: cpu\n",
       "nbytes: 33.4 MB\n",
       "type: 285647 * {\n",
       "    nMuon: uint32,\n",
       "    Muon_eta: var * float32,\n",
       "    Muon_mass: var * float32,\n",
       "    Muon_phi: var * float32,\n",
       "    Muon_pt: var * float32,\n",
       "    Muon_ptErr: var * float32,\n",
       "    Muon_charge: var * int32,\n",
       "    Muon_isGlobal: var * bool\n",
       "}</pre>"
      ],
      "text/plain": [
       "<Array [{nMuon: 2, Muon_eta: [...], ...}, ...] type='285647 * {nMuon: uint3...'>"
      ]
     },
     "execution_count": 13,
     "metadata": {},
     "output_type": "execute_result"
    }
   ],
   "source": [
    "filter_name = '/(nMuon|Muon_pt|Muon_eta|Muon_phi|Muon_charge|Muon_mass|Muon_isGlobal)/'\n",
    "df = events.arrays(filter_name=filter_name, library='ak')\n",
    "df"
   ]
  },
  {
   "cell_type": "markdown",
   "id": "c1c40aa3",
   "metadata": {
    "id": "c1c40aa3"
   },
   "source": [
    "Let's look at one variable for the muons, the charge.\n",
    "\n",
    "Note the structure of the array, in which each element of array corresponds to an event and the size of each element\n",
    "depends on the number of muons in the event:"
   ]
  },
  {
   "cell_type": "code",
   "execution_count": 14,
   "id": "b38608e8-e5f6-44c5-bfe3-cf8c7bebe586",
   "metadata": {
    "colab": {
     "base_uri": "https://localhost:8080/",
     "height": 434
    },
    "id": "b38608e8-e5f6-44c5-bfe3-cf8c7bebe586",
    "outputId": "bd086883-22b7-4bef-b4a4-b8316136c1f1"
   },
   "outputs": [
    {
     "data": {
      "text/html": [
       "<pre>[[-1, 1],\n",
       " [-1, 1],\n",
       " [1, 1],\n",
       " [1, 1, -1],\n",
       " [1, -1],\n",
       " [-1, -1],\n",
       " [1, 1],\n",
       " [1, -1],\n",
       " [-1, 1],\n",
       " [1, 1],\n",
       " ...,\n",
       " [-1, 1],\n",
       " [-1, 1, -1, 1, 1],\n",
       " [-1, 1],\n",
       " [-1, 1],\n",
       " [-1, 1, -1, 1, 1, -1, 1],\n",
       " [1, 1, 1, -1],\n",
       " [1, -1, -1],\n",
       " [-1],\n",
       " [1, -1]]\n",
       "--------------------------\n",
       "backend: cpu\n",
       "nbytes: 4.9 MB\n",
       "type: 285647 * var * int32</pre>"
      ],
      "text/plain": [
       "<Array [[-1, 1], [-1, 1], ..., [-1], [1, -1]] type='285647 * var * int32'>"
      ]
     },
     "execution_count": 14,
     "metadata": {},
     "output_type": "execute_result"
    }
   ],
   "source": [
    "df['Muon_charge']"
   ]
  },
  {
   "cell_type": "markdown",
   "id": "d62dcf6a-4015-4724-ba45-63489875ea73",
   "metadata": {
    "id": "d62dcf6a-4015-4724-ba45-63489875ea73"
   },
   "source": [
    "## Simple analysis and plotting"
   ]
  },
  {
   "cell_type": "markdown",
   "id": "4a1880ad",
   "metadata": {
    "id": "4a1880ad"
   },
   "source": [
    "Let's make some histograms to look at the distribution of some the the variables.\n",
    "Note that we have to use `ak.flatten` to flatten the array structure before we create a histogram:"
   ]
  },
  {
   "cell_type": "code",
   "execution_count": 15,
   "id": "a7dd60b1",
   "metadata": {
    "colab": {
     "base_uri": "https://localhost:8080/",
     "height": 434
    },
    "id": "a7dd60b1",
    "outputId": "2395f992-5220-4d31-d6f1-1906a3c2168b"
   },
   "outputs": [
    {
     "data": {
      "text/html": [
       "<pre>[0.457,\n",
       " -0.934,\n",
       " -0.945,\n",
       " 0.876,\n",
       " 0.0867,\n",
       " 0.431,\n",
       " -1.26,\n",
       " -1.27,\n",
       " 0.372,\n",
       " -1.17,\n",
       " ...,\n",
       " 1.86,\n",
       " 1.93,\n",
       " -1.69,\n",
       " -1.57,\n",
       " -2.05,\n",
       " 0.235,\n",
       " 1.72,\n",
       " 1.34,\n",
       " 1.47]\n",
       "--------\n",
       "backend: cpu\n",
       "nbytes: 2.6 MB\n",
       "type: 649323 * float32</pre>"
      ],
      "text/plain": [
       "<Array [0.457, -0.934, -0.945, ..., 1.72, 1.34, 1.47] type='649323 * float32'>"
      ]
     },
     "execution_count": 15,
     "metadata": {},
     "output_type": "execute_result"
    }
   ],
   "source": [
    "ak.flatten(df['Muon_eta'])"
   ]
  },
  {
   "cell_type": "code",
   "execution_count": 16,
   "id": "dc733a12-2549-4db8-91da-4edc41223956",
   "metadata": {
    "colab": {
     "base_uri": "https://localhost:8080/",
     "height": 654
    },
    "id": "dc733a12-2549-4db8-91da-4edc41223956",
    "outputId": "24db5996-402b-4bcf-865e-46ccc7717949"
   },
   "outputs": [
    {
     "data": {
      "text/plain": [
       "Text(0.5, 0, 'muon phi')"
      ]
     },
     "execution_count": 16,
     "metadata": {},
     "output_type": "execute_result"
    },
    {
     "data": {
      "image/png": "[encoded data removed]",
      "text/plain": [
       "<Figure size 2000x1000 with 4 Axes>"
      ]
     },
     "metadata": {},
     "output_type": "display_data"
    }
   ],
   "source": [
    "fig, axes = plt.subplots(2, 2, figsize=(20,10))\n",
    "\n",
    "axes[0][0].hist(ak.num(df['Muon_pt']), bins=10, range=(0,10))\n",
    "axes[0][0].set_xlabel('N muons')\n",
    "\n",
    "axes[0][1].hist(ak.flatten(df['Muon_pt']), bins=20, range=(0,2000))\n",
    "axes[0][1].set_xlabel('muon pt [GeV]')\n",
    "axes[0][1].set_yscale('log')\n",
    "\n",
    "axes[1][0].hist(ak.flatten(df['Muon_eta']), bins=100, range=(-3,3))\n",
    "axes[1][0].set_xlabel('muon eta')\n",
    "\n",
    "axes[1][1].hist(ak.flatten(df['Muon_phi']), bins=100, range=(-4,4))\n",
    "axes[1][1].set_xlabel('muon phi')"
   ]
  },
  {
   "cell_type": "markdown",
   "id": "6920bb85-3ac0-4f21-81ce-6dec50fcdd22",
   "metadata": {
    "id": "6920bb85-3ac0-4f21-81ce-6dec50fcdd22"
   },
   "source": [
    "Let's make some simple selections. We will select events with precisely 2 muons, each of which is a \"global\" muon (which we will use as a proxy for muon quality), and finally, requiring them to be of opposite charge."
   ]
  },
  {
   "cell_type": "code",
   "execution_count": 17,
   "id": "f347db5f-f759-4f9f-9204-05808970ad2f",
   "metadata": {
    "colab": {
     "base_uri": "https://localhost:8080/"
    },
    "id": "f347db5f-f759-4f9f-9204-05808970ad2f",
    "outputId": "cedaf4a3-4dc5-43db-81ac-2b5f52fdc854"
   },
   "outputs": [
    {
     "name": "stdout",
     "output_type": "stream",
     "text": [
      "[True, True, True, False, True, True, ..., False, False, False, False, True]\n"
     ]
    }
   ],
   "source": [
    "muon_cut = (df['nMuon'] == 2)\n",
    "print(muon_cut)"
   ]
  },
  {
   "cell_type": "code",
   "execution_count": 18,
   "id": "3c57aab8-ae7a-49b8-becb-433353047a53",
   "metadata": {
    "colab": {
     "base_uri": "https://localhost:8080/"
    },
    "id": "3c57aab8-ae7a-49b8-becb-433353047a53",
    "outputId": "5f78b645-b07a-4531-d631-5388c9716179"
   },
   "outputs": [
    {
     "name": "stdout",
     "output_type": "stream",
     "text": [
      "285647\n",
      "150096\n"
     ]
    }
   ],
   "source": [
    "print(\n",
    "    len(df)\n",
    ")\n",
    "\n",
    "df = df[muon_cut]\n",
    "\n",
    "print(\n",
    "    len(df)\n",
    ")"
   ]
  },
  {
   "cell_type": "code",
   "execution_count": 19,
   "id": "933ca67e-f8ad-4f76-90e9-c9daa1407e00",
   "metadata": {
    "colab": {
     "base_uri": "https://localhost:8080/",
     "height": 434
    },
    "id": "933ca67e-f8ad-4f76-90e9-c9daa1407e00",
    "outputId": "8ee116d5-6472-4c09-83c3-1c16c6893be0"
   },
   "outputs": [
    {
     "data": {
      "text/html": [
       "<pre>[[True, True],\n",
       " [True, True],\n",
       " [True, True],\n",
       " [True, True],\n",
       " [True, True],\n",
       " [True, False],\n",
       " [True, False],\n",
       " [True, True],\n",
       " [True, True],\n",
       " [True, True],\n",
       " ...,\n",
       " [True, True],\n",
       " [True, True],\n",
       " [True, True],\n",
       " [True, True],\n",
       " [True, False],\n",
       " [True, True],\n",
       " [True, True],\n",
       " [True, True],\n",
       " [False, True]]\n",
       "---------------\n",
       "backend: cpu\n",
       "nbytes: 4.1 MB\n",
       "type: 150096 * var * bool</pre>"
      ],
      "text/plain": [
       "<Array [[True, True], [...], ..., [False, True]] type='150096 * var * bool'>"
      ]
     },
     "execution_count": 19,
     "metadata": {},
     "output_type": "execute_result"
    }
   ],
   "source": [
    "df['Muon_isGlobal']"
   ]
  },
  {
   "cell_type": "code",
   "execution_count": 20,
   "id": "3aaeae44-6677-4d7e-a9c2-8801add02199",
   "metadata": {
    "colab": {
     "base_uri": "https://localhost:8080/"
    },
    "id": "3aaeae44-6677-4d7e-a9c2-8801add02199",
    "outputId": "424dd0f8-443b-4907-a4da-d0e03b260e94"
   },
   "outputs": [
    {
     "name": "stdout",
     "output_type": "stream",
     "text": [
      "[True, True, True, True, True, False, ..., True, False, True, True, True, False]\n"
     ]
    }
   ],
   "source": [
    "global_cut  = ak.all(df['Muon_isGlobal'], axis=1)\n",
    "print(global_cut)"
   ]
  },
  {
   "cell_type": "code",
   "execution_count": 21,
   "id": "c74d2d65-38c6-4630-9641-daca3badac1c",
   "metadata": {
    "id": "c74d2d65-38c6-4630-9641-daca3badac1c"
   },
   "outputs": [],
   "source": [
    "df = df[global_cut]"
   ]
  },
  {
   "cell_type": "markdown",
   "id": "f46df0cd-7b5e-445e-bee8-fb387c50c42d",
   "metadata": {
    "id": "f46df0cd-7b5e-445e-bee8-fb387c50c42d"
   },
   "source": [
    "We have a data frame with two global muons. Now let's collect these muons and construct four-momenta in order to make a calcuation of the invariant mass of the two muons:"
   ]
  },
  {
   "cell_type": "code",
   "execution_count": 22,
   "id": "856b7da4-e5da-4821-8442-830dba386a0b",
   "metadata": {
    "id": "856b7da4-e5da-4821-8442-830dba386a0b"
   },
   "outputs": [],
   "source": [
    "muons = ak.zip({\n",
    "    'pt': df.Muon_pt,\n",
    "    'phi': df.Muon_phi,\n",
    "    'eta': df.Muon_eta,\n",
    "    'mass': df.Muon_mass,\n",
    "    'charge': df.Muon_charge,\n",
    "}, with_name='Momentum4D')"
   ]
  },
  {
   "cell_type": "code",
   "execution_count": 23,
   "id": "919833e4-d9bf-4b8f-b6f5-8505ef179d51",
   "metadata": {
    "colab": {
     "base_uri": "https://localhost:8080/"
    },
    "id": "919833e4-d9bf-4b8f-b6f5-8505ef179d51",
    "outputId": "9274d1f2-e78e-4b3b-a423-080c7d1f0402"
   },
   "outputs": [
    {
     "data": {
      "text/plain": [
       "131528"
      ]
     },
     "execution_count": 23,
     "metadata": {},
     "output_type": "execute_result"
    }
   ],
   "source": [
    "len(muons)"
   ]
  },
  {
   "cell_type": "code",
   "execution_count": 24,
   "id": "cc1ad935-3e81-47ce-a52a-5a936ae94666",
   "metadata": {
    "colab": {
     "base_uri": "https://localhost:8080/",
     "height": 434
    },
    "id": "cc1ad935-3e81-47ce-a52a-5a936ae94666",
    "outputId": "5750e6e2-82a0-4ceb-ac1a-c8fbb79876ab"
   },
   "outputs": [
    {
     "data": {
      "text/html": [
       "<pre>[True,\n",
       " True,\n",
       " False,\n",
       " True,\n",
       " False,\n",
       " True,\n",
       " False,\n",
       " True,\n",
       " True,\n",
       " True,\n",
       " ...,\n",
       " True,\n",
       " True,\n",
       " True,\n",
       " True,\n",
       " True,\n",
       " True,\n",
       " True,\n",
       " True,\n",
       " True]\n",
       "-------\n",
       "backend: cpu\n",
       "nbytes: 131.5 kB\n",
       "type: 131528 * bool</pre>"
      ],
      "text/plain": [
       "<Array [True, True, False, True, ..., True, True, True] type='131528 * bool'>"
      ]
     },
     "execution_count": 24,
     "metadata": {},
     "output_type": "execute_result"
    }
   ],
   "source": [
    "oppsign_cut = muons[:,0].charge*muons[:,1].charge == -1\n",
    "oppsign_cut"
   ]
  },
  {
   "cell_type": "code",
   "execution_count": 25,
   "id": "6a32bde8-d51f-4ecb-bfd6-71963548057f",
   "metadata": {
    "colab": {
     "base_uri": "https://localhost:8080/"
    },
    "id": "6a32bde8-d51f-4ecb-bfd6-71963548057f",
    "outputId": "fed77a3f-4e14-4611-fcfe-03b9951dcf79"
   },
   "outputs": [
    {
     "data": {
      "text/plain": [
       "100687"
      ]
     },
     "execution_count": 25,
     "metadata": {},
     "output_type": "execute_result"
    }
   ],
   "source": [
    "muons = muons[oppsign_cut]\n",
    "len(muons)"
   ]
  },
  {
   "cell_type": "code",
   "execution_count": 26,
   "id": "e4dcca4b-930e-44a1-ab69-7e23250f1d45",
   "metadata": {
    "id": "e4dcca4b-930e-44a1-ab69-7e23250f1d45"
   },
   "outputs": [],
   "source": [
    "M = (muons[:, 0] + muons[:, 1]).mass"
   ]
  },
  {
   "cell_type": "code",
   "execution_count": 27,
   "id": "1f669cd0-a74e-4c26-aee0-0984550c7355",
   "metadata": {
    "colab": {
     "base_uri": "https://localhost:8080/",
     "height": 472
    },
    "id": "1f669cd0-a74e-4c26-aee0-0984550c7355",
    "outputId": "3d964f98-94ae-41b9-9e9d-b321f89dda5f"
   },
   "outputs": [
    {
     "data": {
      "text/plain": [
       "Text(0.5, 0, 'invariant mass [GeV]')"
      ]
     },
     "execution_count": 27,
     "metadata": {},
     "output_type": "execute_result"
    },
    {
     "data": {
      "image/png": "[encoded data removed]",
      "text/plain": [
       "<Figure size 640x480 with 1 Axes>"
      ]
     },
     "metadata": {},
     "output_type": "display_data"
    }
   ],
   "source": [
    "plt.hist(M, bins=2000, range=(0.25,300))\n",
    "plt.xscale('log')\n",
    "plt.yscale('log')\n",
    "plt.xlabel('invariant mass [GeV]')"
   ]
  },
  {
   "cell_type": "code",
   "execution_count": 28,
   "id": "181e11c7-0a9a-42a4-924e-7f6b6ec48f99",
   "metadata": {
    "colab": {
     "base_uri": "https://localhost:8080/",
     "height": 476
    },
    "id": "181e11c7-0a9a-42a4-924e-7f6b6ec48f99",
    "outputId": "55d17e1e-2d3e-484b-abda-ee2c6e7ba1bd"
   },
   "outputs": [
    {
     "data": {
      "image/png": "[encoded data removed]",
      "text/plain": [
       "<Figure size 640x480 with 1 Axes>"
      ]
     },
     "metadata": {},
     "output_type": "display_data"
    }
   ],
   "source": [
    "bins = np.linspace(0.25, 300, 30000)\n",
    "\n",
    "counts, edges, _ = plt.hist(\n",
    "    M,\n",
    "    bins=bins,\n",
    "    histtype='step',\n",
    "    density=False\n",
    ")\n",
    "\n",
    "plt.xscale('log')\n",
    "plt.yscale('log')\n",
    "\n",
    "annotations = [\n",
    "    (r\"$\\eta$\", 0.50, 90),\n",
    "    (r\"$\\rho,\\omega$\", 0.60, 150),\n",
    "    (r\"$\\phi$\", 1.10, 120),\n",
    "    (r\"J/$\\psi$\", 3.5, 800),\n",
    "    (r\"$\\psi'$\", 4.0, 60),\n",
    "    (r\"Y(1,2,3S)\", 9.0, 70),\n",
    "    (r\"Z\", 90.0, 90)\n",
    "]\n",
    "\n",
    "for a in annotations:\n",
    "    plt.text(\n",
    "        a[1], a[2], a[0],\n",
    "        fontsize=12,\n",
    "        color=\"black\"\n",
    "    )\n",
    "\n",
    "plt.xlabel('Invariant mass [GeV]')\n",
    "plt.ylabel('Number of events')\n",
    "plt.title('CMS Open Data DoubleMuon Run1016H')\n",
    "plt.show()"
   ]
  },
  {
   "cell_type": "markdown",
   "id": "9cba830c-cea9-4017-807c-bcaed41da9b9",
   "metadata": {
    "id": "9cba830c-cea9-4017-807c-bcaed41da9b9"
   },
   "source": []
  },
  {
   "cell_type": "code",
   "execution_count": null,
   "id": "3bafa337-fbb6-40aa-b3c7-68ceeef1e05a",
   "metadata": {},
   "outputs": [],
   "source": []
  }
 ],
 "metadata": {
  "colab": {
   "provenance": []
  },
  "kernelspec": {
   "display_name": "Python 3 (ipykernel)",
   "language": "python",
   "name": "python3"
  },
  "language_info": {
   "codemirror_mode": {
    "name": "ipython",
    "version": 3
   },
   "file_extension": ".py",
   "mimetype": "text/x-python",
   "name": "python",
   "nbconvert_exporter": "python",
   "pygments_lexer": "ipython3",
   "version": "3.11.5"
  }
 },
 "nbformat": 4,
 "nbformat_minor": 5
}
